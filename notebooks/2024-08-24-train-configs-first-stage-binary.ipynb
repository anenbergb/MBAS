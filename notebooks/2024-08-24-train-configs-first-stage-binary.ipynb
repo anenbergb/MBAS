{
 "cells": [
  {
   "cell_type": "code",
   "execution_count": 10,
   "id": "238c7eef",
   "metadata": {},
   "outputs": [
    {
     "name": "stdout",
     "output_type": "stream",
     "text": [
      "The autoreload extension is already loaded. To reload it, use:\n",
      "  %reload_ext autoreload\n"
     ]
    }
   ],
   "source": [
    "import json\n",
    "import os\n",
    "import copy\n",
    "\n",
    "from mbas.experiment_planning.model_configurator import MBASTrainerConfigurator\n",
    "\n",
    "%load_ext autoreload\n",
    "%autoreload 2"
   ]
  },
  {
   "cell_type": "code",
   "execution_count": 11,
   "id": "b4f4fc9e",
   "metadata": {},
   "outputs": [],
   "source": [
    "new_config_fpath = \"/home/bryan/data/mbas_nnUNet_preprocessed/Dataset104_MBAS/plans_2024_08_24.json\""
   ]
  },
  {
   "cell_type": "code",
   "execution_count": 12,
   "id": "12b75627",
   "metadata": {},
   "outputs": [],
   "source": [
    "configurator = MBASTrainerConfigurator(\n",
    "    os.path.basename(os.path.splitext(new_config_fpath)[0]),\n",
    "    dataset_name = \"Dataset104_MBAS\",\n",
    ")\n",
    "\n",
    "configurator.configurations[\"ResEncUNet_3d_lowres_for25\"] = configurator.set_params(\n",
    "    patch_size=(28,256,224),\n",
    "    data_identifier = \"nnUNetResEncUNetMPlans_3d_lowres\",\n",
    "    spacing = (2.5, 0.9737296353754783, 0.9737296353754783),\n",
    "    probabilistic_oversampling = True,\n",
    "    oversample_foreground_percent = 0.25,\n",
    ").nnUNetResEncUNet()\n",
    "configurator.configurations[\"ResEncUNet_3d_lowres_for25_drop25\"] = configurator.set_params(\n",
    "    patch_size=(28,256,224),\n",
    "    data_identifier = \"nnUNetResEncUNetMPlans_3d_lowres\",\n",
    "    spacing = (2.5, 0.9737296353754783, 0.9737296353754783),\n",
    "    probabilistic_oversampling = True,\n",
    "    oversample_foreground_percent = 0.25,\n",
    ").nnUNetResEncUNet(\n",
    "    dropout_op = \"torch.nn.modules.dropout.Dropout3d\",\n",
    "    dropout_op_kwargs = {\n",
    "        \"p\": 0.25,\n",
    "        \"inplace\": True,\n",
    "    }\n",
    ")\n",
    "configurator.configurations[\"ResEncUNet_3d_lowres_for25_drop50\"] = configurator.set_params(\n",
    "    patch_size=(28,256,224),\n",
    "    data_identifier = \"nnUNetResEncUNetMPlans_3d_lowres\",\n",
    "    spacing = (2.5, 0.9737296353754783, 0.9737296353754783),\n",
    "    probabilistic_oversampling = True,\n",
    "    oversample_foreground_percent = 0.25,\n",
    ").nnUNetResEncUNet(\n",
    "    dropout_op = \"torch.nn.modules.dropout.Dropout3d\",\n",
    "    dropout_op_kwargs = {\n",
    "        \"p\":  0.5,\n",
    "        \"inplace\": True,\n",
    "    }\n",
    ")\n",
    "\n",
    "configurator.configurations[\"ResEncUNet_3d_lowres_k5_for25\"] = configurator.set_params(\n",
    "    patch_size=(28,256,224),\n",
    "    data_identifier = \"nnUNetResEncUNetMPlans_3d_lowres\",\n",
    "    spacing = (2.5, 0.9737296353754783, 0.9737296353754783),\n",
    "    probabilistic_oversampling = True,\n",
    "    oversample_foreground_percent = 0.25,\n",
    ").nnUNetResEncUNet(\n",
    "    kernel_sizes=[\n",
    "        [1, 5, 5],\n",
    "        [3, 5, 5],\n",
    "        [5, 5, 5],\n",
    "        [3, 3, 3],\n",
    "        [3, 3, 3],\n",
    "        [3, 3, 3],\n",
    "    ],\n",
    "    strides=[\n",
    "        [1, 1, 1],\n",
    "        [1, 2, 2],\n",
    "        [2, 2, 2],\n",
    "        [2, 2, 2],\n",
    "        [1, 2, 2],\n",
    "        [1, 2, 2],\n",
    "    ],\n",
    ")"
   ]
  },
  {
   "cell_type": "code",
   "execution_count": 13,
   "id": "e26b9699",
   "metadata": {},
   "outputs": [],
   "source": [
    "configurator.save(new_config_fpath)"
   ]
  },
  {
   "cell_type": "code",
   "execution_count": null,
   "id": "ee748fbf",
   "metadata": {},
   "outputs": [],
   "source": []
  }
 ],
 "metadata": {
  "kernelspec": {
   "display_name": "Python [conda env:mbas]",
   "language": "python",
   "name": "conda-env-mbas-py"
  },
  "language_info": {
   "codemirror_mode": {
    "name": "ipython",
    "version": 3
   },
   "file_extension": ".py",
   "mimetype": "text/x-python",
   "name": "python",
   "nbconvert_exporter": "python",
   "pygments_lexer": "ipython3",
   "version": "3.10.14"
  }
 },
 "nbformat": 4,
 "nbformat_minor": 5
}
