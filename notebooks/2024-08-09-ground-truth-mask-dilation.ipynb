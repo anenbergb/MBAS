{
 "cells": [
  {
   "cell_type": "code",
   "execution_count": 2,
   "id": "9b9219be",
   "metadata": {},
   "outputs": [],
   "source": [
    "import numpy as np\n",
    "import pickle\n",
    "import nibabel as nib\n",
    "import os\n",
    "\n",
    "from PIL import Image\n",
    "import matplotlib.pyplot as plt\n",
    "%matplotlib inline\n",
    "\n",
    "import torch\n",
    "\n",
    "from batchgeneratorsv2.transforms.nnunet.random_binary_operator import binary_dilation_torch\n",
    "from skimage.morphology import ball, disk\n"
   ]
  },
  {
   "cell_type": "code",
   "execution_count": 3,
   "id": "878a045f",
   "metadata": {},
   "outputs": [],
   "source": [
    "npz_filepath = \"/home/bryan/expr/mbas_nnUNet_results/Dataset101_MBAS/cascade_ground_truth/ground_truth_binary/MBAS_001.npz\""
   ]
  },
  {
   "cell_type": "code",
   "execution_count": 4,
   "id": "c2a5f565",
   "metadata": {},
   "outputs": [],
   "source": [
    "npz = np.load(npz_filepath)"
   ]
  },
  {
   "cell_type": "code",
   "execution_count": 5,
   "id": "cbc58630",
   "metadata": {},
   "outputs": [],
   "source": [
    "seg = npz[\"seg\"]"
   ]
  },
  {
   "cell_type": "code",
   "execution_count": 6,
   "id": "ce1d89de",
   "metadata": {},
   "outputs": [
    {
     "data": {
      "text/plain": [
       "<matplotlib.image.AxesImage at 0x7be18f6ace80>"
      ]
     },
     "execution_count": 6,
     "metadata": {},
     "output_type": "execute_result"
    },
    {
     "data": {
      "image/png": "[encoded data removed]",
      "text/plain": [
       "<Figure size 640x480 with 1 Axes>"
      ]
     },
     "metadata": {},
     "output_type": "display_data"
    }
   ],
   "source": [
    "plt.imshow(seg[10], cmap=\"gray\")"
   ]
  },
  {
   "cell_type": "code",
   "execution_count": 7,
   "id": "e0089fef",
   "metadata": {},
   "outputs": [
    {
     "data": {
      "text/plain": [
       "(44, 638, 638)"
      ]
     },
     "execution_count": 7,
     "metadata": {},
     "output_type": "execute_result"
    }
   ],
   "source": [
    "seg.shape"
   ]
  },
  {
   "cell_type": "code",
   "execution_count": 8,
   "id": "234d9c3d",
   "metadata": {},
   "outputs": [],
   "source": [
    "seg_torch = torch.from_numpy(seg)"
   ]
  },
  {
   "cell_type": "code",
   "execution_count": 15,
   "id": "fb62d442",
   "metadata": {},
   "outputs": [],
   "source": [
    "ball3d = ball(1, dtype=bool)"
   ]
  },
  {
   "cell_type": "code",
   "execution_count": 16,
   "id": "9ec80fb3",
   "metadata": {},
   "outputs": [],
   "source": [
    "seg_dil = binary_dilation_torch(seg_torch, torch.from_numpy(ball3d))"
   ]
  },
  {
   "cell_type": "code",
   "execution_count": 17,
   "id": "af5af90c",
   "metadata": {},
   "outputs": [
    {
     "data": {
      "text/plain": [
       "<matplotlib.image.AxesImage at 0x7be18c132dd0>"
      ]
     },
     "execution_count": 17,
     "metadata": {},
     "output_type": "execute_result"
    },
    {
     "data": {
      "image/png": "[encoded data removed]",
      "text/plain": [
       "<Figure size 640x480 with 1 Axes>"
      ]
     },
     "metadata": {},
     "output_type": "display_data"
    }
   ],
   "source": [
    "plt.imshow(seg_dil.numpy()[10], cmap=\"gray\")"
   ]
  },
  {
   "cell_type": "code",
   "execution_count": 29,
   "id": "d78a6f02",
   "metadata": {},
   "outputs": [],
   "source": [
    "def print_tensor(tensor, name, force_unique=False):\n",
    "    print(name, tensor.shape, tensor.dtype)\n",
    "    if tensor.dtype == np.float32:\n",
    "        print(f\"\\trange: [{tensor.min()}, {tensor.max()}]\")\n",
    "    elif tensor.dtype in (np.int8, np.uint8) or force_unique:\n",
    "        print(f\"\\t{np.unique(tensor.flatten(), return_counts=True)}\")"
   ]
  },
  {
   "cell_type": "code",
   "execution_count": 33,
   "id": "6a8042ab",
   "metadata": {},
   "outputs": [
    {
     "name": "stdout",
     "output_type": "stream",
     "text": [
      "seg torch.Size([44, 638, 638]) torch.int8\n",
      "\t(array([0, 1], dtype=int8), array([17612656,   297280]))\n"
     ]
    }
   ],
   "source": [
    "print_tensor(seg_torch, \"seg\", force_unique=True)"
   ]
  },
  {
   "cell_type": "code",
   "execution_count": 36,
   "id": "dfaa88ba",
   "metadata": {},
   "outputs": [
    {
     "name": "stdout",
     "output_type": "stream",
     "text": [
      "seg_dil torch.Size([44, 638, 638]) torch.bool\n",
      "\t(array([False,  True]), array([17602477,   307459]))\n"
     ]
    }
   ],
   "source": [
    "print_tensor(seg_dil, \"seg_dil\", force_unique=True)"
   ]
  },
  {
   "cell_type": "code",
   "execution_count": 48,
   "id": "a2988533",
   "metadata": {},
   "outputs": [
    {
     "data": {
      "text/plain": [
       "torch.Size([44, 638, 638])"
      ]
     },
     "execution_count": 48,
     "metadata": {},
     "output_type": "execute_result"
    }
   ],
   "source": [
    "seg_torch.shape"
   ]
  },
  {
   "cell_type": "code",
   "execution_count": 49,
   "id": "b23ccc8a",
   "metadata": {},
   "outputs": [
    {
     "data": {
      "text/plain": [
       "3"
      ]
     },
     "execution_count": 49,
     "metadata": {},
     "output_type": "execute_result"
    }
   ],
   "source": [
    "seg_torch.ndim"
   ]
  },
  {
   "cell_type": "code",
   "execution_count": null,
   "id": "e1d51d19",
   "metadata": {},
   "outputs": [],
   "source": []
  }
 ],
 "metadata": {
  "kernelspec": {
   "display_name": "Python [conda env:mbas]",
   "language": "python",
   "name": "conda-env-mbas-py"
  },
  "language_info": {
   "codemirror_mode": {
    "name": "ipython",
    "version": 3
   },
   "file_extension": ".py",
   "mimetype": "text/x-python",
   "name": "python",
   "nbconvert_exporter": "python",
   "pygments_lexer": "ipython3",
   "version": "3.10.14"
  }
 },
 "nbformat": 4,
 "nbformat_minor": 5
}
