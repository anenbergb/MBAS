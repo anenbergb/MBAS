{
 "cells": [
  {
   "cell_type": "code",
   "execution_count": 1,
   "id": "f1b4c12c",
   "metadata": {},
   "outputs": [],
   "source": [
    "import json\n",
    "import os\n",
    "import shutil\n",
    "from loguru import logger\n",
    "from mbas.data.nifti import get_subject_folders\n",
    "from tqdm import tqdm"
   ]
  },
  {
   "cell_type": "markdown",
   "id": "7a52f20b",
   "metadata": {},
   "source": [
    "Following these instructions\n",
    "https://github.com/MIC-DKFZ/nnUNet/blob/master/documentation/dataset_format.md"
   ]
  },
  {
   "cell_type": "markdown",
   "id": "72674702",
   "metadata": {},
   "source": [
    "Generates a dataset.json file in the output folder\n",
    "\n",
    "    channel_names:\n",
    "        Channel names must map the index to the name of the channel, example:\n",
    "        {\n",
    "            0: 'T1',\n",
    "            1: 'CT'\n",
    "        }\n",
    "        Note that the channel names may influence the normalization scheme!! Learn more in the documentation.\n",
    "\n",
    "    labels:\n",
    "        This will tell nnU-Net what labels to expect. Important: This will also determine whether you use region-based training or not.\n",
    "        Example regular labels:\n",
    "        {\n",
    "            'background': 0,\n",
    "            'left atrium': 1,\n",
    "            'some other label': 2\n",
    "        }\n",
    "        Example region-based training:\n",
    "        {\n",
    "            'background': 0,\n",
    "            'whole tumor': (1, 2, 3),\n",
    "            'tumor core': (2, 3),\n",
    "            'enhancing tumor': 3\n",
    "        }\n",
    "\n",
    "Remember that nnU-Net expects consecutive values for labels! nnU-Net also expects 0 to be background!\n",
    "\n",
    "num_training_cases: is used to double check all cases are there!\n",
    "\n",
    "- file_ending: needed for finding the files correctly. IMPORTANT! File endings must match between images and segmentations!\n",
    "\n",
    "- dataset_name, reference, release, license, description: self-explanatory and not used by nnU-Net. Just for completeness and as a reminder that these would be great!\n",
    "\n",
    "- overwrite_image_reader_writer: If you need a special IO class for your dataset you can derive it from BaseReaderWriter, place it into nnunet.imageio and reference it here by name"
   ]
  },
  {
   "cell_type": "code",
   "execution_count": 3,
   "id": "23c1bb22",
   "metadata": {},
   "outputs": [],
   "source": [
    "channel_names = {\n",
    "    \"0\": \"LGE_MRI\",\n",
    "}\n",
    "labels = {\n",
    "    \"background\": 0,\n",
    "    \"atrium\": 1,\n",
    "}"
   ]
  },
  {
   "cell_type": "code",
   "execution_count": 4,
   "id": "962a563b",
   "metadata": {},
   "outputs": [],
   "source": [
    "MBAS_training = \"/home/bryan/data/MBAS/Training\"\n",
    "MBAS_validation = \"/home/bryan/data/MBAS/Validation\"\n",
    "\n",
    "nnUNet_raw = \"/home/bryan/data/nnUNet_raw\"\n",
    "dataset_folder = os.path.join(nnUNet_raw, \"Dataset104_MBAS\")\n",
    "dataset_json_path = os.path.join(dataset_folder, \"dataset.json\")"
   ]
  },
  {
   "cell_type": "code",
   "execution_count": 5,
   "id": "80c20b23",
   "metadata": {},
   "outputs": [
    {
     "data": {
      "text/plain": [
       "70"
      ]
     },
     "execution_count": 5,
     "metadata": {},
     "output_type": "execute_result"
    }
   ],
   "source": [
    "num_training_cases = len(get_subject_folders(MBAS_training))\n",
    "num_training_cases"
   ]
  },
  {
   "cell_type": "code",
   "execution_count": 7,
   "id": "bbb2d0c6",
   "metadata": {},
   "outputs": [],
   "source": [
    "dataset_json = {\n",
    "    \"name\": \"MBAS\",\n",
    "    \"release\": \"1.0\",\n",
    "    \"channel_names\": channel_names,\n",
    "    \"labels\": labels,\n",
    "    \"numTraining\": num_training_cases,\n",
    "    \"file_ending\": \".nii.gz\",\n",
    "    \"overwrite_image_reader_writer\": \"SimpleITKIO\",\n",
    "    \n",
    "}\n",
    "\n",
    "os.makedirs(dataset_folder, exist_ok=True)\n",
    "with open(dataset_json_path, \"w\") as f:\n",
    "    json.dump(dataset_json, f, indent=2, sort_keys=False)"
   ]
  },
  {
   "cell_type": "code",
   "execution_count": 8,
   "id": "3e694797",
   "metadata": {},
   "outputs": [],
   "source": [
    "def copy_to_nnunet_folder(mbas_folder, nnunet_folder, training = True, dry_run=False):\n",
    "    nnunet_data_folder = os.path.join(nnunet_folder, \"imagesTr\") if training else os.path.join(nnunet_folder, \"imagesTs\")\n",
    "    nnunet_labels_folder = os.path.join(nnunet_folder, \"labelsTr\")\n",
    "    \n",
    "    if not dry_run:\n",
    "        os.makedirs(nnunet_data_folder, exist_ok=True)\n",
    "        os.makedirs(nnunet_labels_folder, exist_ok=True)\n",
    "    \n",
    "    for file_name in tqdm(os.listdir(mbas_folder)):\n",
    "        file_path = os.path.join(mbas_folder, file_name)\n",
    "        if not os.path.isdir(file_path):\n",
    "            continue\n",
    "\n",
    "        patient_files = os.listdir(file_path)\n",
    "        # check if folder contains a MBAS_XXX_gt.nii.gz file\n",
    "        for p_file in patient_files:\n",
    "            case_identifier = p_file[:len(\"MBAS_XXX\")]\n",
    "            if p_file.endswith(\"gt.nii.gz\"):\n",
    "                nnunet_file = os.path.join(nnunet_data_folder, f\"{case_identifier}_0000.nii.gz\")\n",
    "            elif p_file.endswith(\"binary_label.nii.gz\"):\n",
    "                nnunet_file = os.path.join(nnunet_labels_folder, f\"{case_identifier}.nii.gz\")\n",
    "            else:\n",
    "                continue\n",
    "            \n",
    "            p_filepath = os.path.join(file_path, p_file)\n",
    "            \n",
    "            \n",
    "            if dry_run:\n",
    "                logger.info(f\"Copying {p_filepath} -> {nnunet_file}\")\n",
    "            else:\n",
    "                shutil.copy(p_filepath, nnunet_file)"
   ]
  },
  {
   "cell_type": "code",
   "execution_count": 10,
   "id": "40aa0bda",
   "metadata": {
    "scrolled": true
   },
   "outputs": [
    {
     "name": "stderr",
     "output_type": "stream",
     "text": [
      "100%|█████████████████████████████████████████████████████████████████████████████████████████████████████████████████████████████████████████████████████████████████████████████████████████████████████████████████████████████████████████| 71/71 [00:03<00:00, 22.47it/s]\n"
     ]
    }
   ],
   "source": [
    "copy_to_nnunet_folder(\n",
    "    MBAS_training,\n",
    "    dataset_folder,\n",
    "    training = True,\n",
    "    dry_run = False\n",
    ")"
   ]
  },
  {
   "cell_type": "code",
   "execution_count": 11,
   "id": "d053e44a",
   "metadata": {},
   "outputs": [
    {
     "name": "stderr",
     "output_type": "stream",
     "text": [
      "100%|█████████████████████████████████████████████████████████████████████████████████████████████████████████████████████████████████████████████████████████████████████████████████████████████████████████████████████████████████████████| 31/31 [00:01<00:00, 25.17it/s]\n"
     ]
    }
   ],
   "source": [
    "copy_to_nnunet_folder(\n",
    "    MBAS_validation,\n",
    "    dataset_folder,\n",
    "    training = False,\n",
    "    dry_run = False\n",
    ")"
   ]
  },
  {
   "cell_type": "code",
   "execution_count": null,
   "id": "f0bdecaf",
   "metadata": {},
   "outputs": [],
   "source": []
  }
 ],
 "metadata": {
  "kernelspec": {
   "display_name": "Python [conda env:mbas]",
   "language": "python",
   "name": "conda-env-mbas-py"
  },
  "language_info": {
   "codemirror_mode": {
    "name": "ipython",
    "version": 3
   },
   "file_extension": ".py",
   "mimetype": "text/x-python",
   "name": "python",
   "nbconvert_exporter": "python",
   "pygments_lexer": "ipython3",
   "version": "3.10.14"
  }
 },
 "nbformat": 4,
 "nbformat_minor": 5
}
