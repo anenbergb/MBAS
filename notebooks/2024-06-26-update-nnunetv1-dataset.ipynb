{
 "cells": [
  {
   "cell_type": "code",
   "execution_count": 1,
   "id": "fff90209",
   "metadata": {},
   "outputs": [],
   "source": [
    "import os\n",
    "import json"
   ]
  },
  {
   "cell_type": "code",
   "execution_count": 42,
   "id": "441880da",
   "metadata": {},
   "outputs": [],
   "source": [
    "dataset_folder = \"/home/bryan/data/nnUNet_raw_data_base/nnUNet_raw_data/Task501_MBAS\""
   ]
  },
  {
   "cell_type": "code",
   "execution_count": 43,
   "id": "7adb05c7",
   "metadata": {},
   "outputs": [],
   "source": [
    "with open(os.path.join(dataset_folder, \"dataset.json\"), \"r\") as f:\n",
    "    dataset_json = json.load(f)"
   ]
  },
  {
   "cell_type": "code",
   "execution_count": 44,
   "id": "be42c4ea",
   "metadata": {},
   "outputs": [],
   "source": [
    "dataset_json['modality'] = {'0': 'LGE_MRI'}\n",
    "dataset_json['labels'] = \\\n",
    "{ 0 : 'background',\n",
    "  1: 'left_right_atrium_wall',\n",
    "  2: 'right_atrium_cavity',\n",
    "  3: 'left_atrium_cavity'\n",
    "}"
   ]
  },
  {
   "cell_type": "code",
   "execution_count": 45,
   "id": "46f6e1e7",
   "metadata": {},
   "outputs": [],
   "source": [
    "train_files = sorted(os.listdir(os.path.join(dataset_folder, \"imagesTr\")))\n",
    "label_files = sorted(os.listdir(os.path.join(dataset_folder, \"labelsTr\")))\n",
    "test_files = sorted(os.listdir(os.path.join(dataset_folder, \"imagesTs\")))\n",
    "assert len(train_files) == len(label_files)\n",
    "\n",
    "dataset_json[\"numTest\"] = 16"
   ]
  },
  {
   "cell_type": "code",
   "execution_count": 46,
   "id": "9ccbefdd",
   "metadata": {},
   "outputs": [],
   "source": [
    "dataset_json[\"training\"] = []\n",
    "for train_file in train_files:\n",
    "    prefix = train_file[:len(\"MBAS_000\")]\n",
    "    file_name = f\"{prefix}.nii.gz\"\n",
    "    label_file_path = os.path.join(dataset_folder, \"labelsTr\", file_name)\n",
    "    assert os.path.exists(label_file_path)\n",
    "    item = {\n",
    "        \"image\": f\"imagesTr/{file_name}\",\n",
    "        \"label\": f\"labelsTr/{file_name}\"\n",
    "    }\n",
    "    dataset_json[\"training\"].append(item)\n",
    "\n",
    "dataset_json[\"test\"] = []\n",
    "for test_file in test_files:\n",
    "    prefix = test_file[:len(\"MBAS_000\")]\n",
    "    file_name = f\"{prefix}.nii.gz\"\n",
    "    dataset_json[\"test\"].append(file_name)"
   ]
  },
  {
   "cell_type": "code",
   "execution_count": 47,
   "id": "ee4d3162",
   "metadata": {},
   "outputs": [],
   "source": [
    "with open(os.path.join(dataset_folder, \"dataset.json\"), \"w\") as f:\n",
    "    json.dump(dataset_json, f, indent=2)"
   ]
  },
  {
   "cell_type": "code",
   "execution_count": null,
   "id": "77e10a55",
   "metadata": {},
   "outputs": [],
   "source": []
  }
 ],
 "metadata": {
  "kernelspec": {
   "display_name": "Python [conda env:mbas]",
   "language": "python",
   "name": "conda-env-mbas-py"
  },
  "language_info": {
   "codemirror_mode": {
    "name": "ipython",
    "version": 3
   },
   "file_extension": ".py",
   "mimetype": "text/x-python",
   "name": "python",
   "nbconvert_exporter": "python",
   "pygments_lexer": "ipython3",
   "version": "3.10.14"
  }
 },
 "nbformat": 4,
 "nbformat_minor": 5
}
