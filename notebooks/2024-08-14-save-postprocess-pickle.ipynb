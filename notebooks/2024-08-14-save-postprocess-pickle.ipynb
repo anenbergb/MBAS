{
 "cells": [
  {
   "cell_type": "code",
   "execution_count": 9,
   "id": "69be4c2b",
   "metadata": {},
   "outputs": [],
   "source": [
    "import pickle\n",
    "import os"
   ]
  },
  {
   "cell_type": "code",
   "execution_count": 10,
   "id": "a2fa58f7",
   "metadata": {},
   "outputs": [],
   "source": [
    "from nnunetv2.postprocessing.remove_connected_components import remove_all_but_largest_component_from_segmentation"
   ]
  },
  {
   "cell_type": "code",
   "execution_count": 11,
   "id": "f5c4f685",
   "metadata": {},
   "outputs": [],
   "source": [
    "nnUNet_results=\"/home/bryan/expr/mbas_nnUNet_results\"\n",
    "val_dir = os.path.join(nnUNet_results, \"Dataset101_MBAS/mbasTrainer__nnUNetResEncUNetMPlans_2024_08_13__16_256_cascade_3d_low_res/fold_all/validation_71_100\")"
   ]
  },
  {
   "cell_type": "code",
   "execution_count": 12,
   "id": "4d0cb395",
   "metadata": {},
   "outputs": [],
   "source": [
    "pickle_tuple = (\n",
    "    [remove_all_but_largest_component_from_segmentation] * 4,\n",
    "    [\n",
    "        {'labels_or_regions': [1, 2, 3]},\n",
    "        {'labels_or_regions': 1},\n",
    "        {'labels_or_regions': 2},\n",
    "        {'labels_or_regions': 3},\n",
    "    ]\n",
    ")\n",
    "\n",
    "pp_pkl_fpath = os.path.join(val_dir, \"postprocessing_every_region.pkl\")\n",
    "with open(pp_pkl_fpath, \"wb\") as f:\n",
    "    pickle.dump(pickle_tuple, f)"
   ]
  },
  {
   "cell_type": "code",
   "execution_count": 14,
   "id": "30a469aa",
   "metadata": {},
   "outputs": [],
   "source": [
    "pickle_tuple = (\n",
    "    [remove_all_but_largest_component_from_segmentation] * 2,\n",
    "    [\n",
    "        {'labels_or_regions': [1, 2, 3]},\n",
    "        {'labels_or_regions': 1},\n",
    "    ]\n",
    ")\n",
    "\n",
    "pp_pkl_fpath = os.path.join(val_dir, \"postprocessing_only_wall.pkl\")\n",
    "with open(pp_pkl_fpath, \"wb\") as f:\n",
    "    pickle.dump(pickle_tuple, f)"
   ]
  },
  {
   "cell_type": "code",
   "execution_count": null,
   "id": "bfe7fab0",
   "metadata": {},
   "outputs": [],
   "source": []
  }
 ],
 "metadata": {
  "kernelspec": {
   "display_name": "Python [conda env:mbas]",
   "language": "python",
   "name": "conda-env-mbas-py"
  },
  "language_info": {
   "codemirror_mode": {
    "name": "ipython",
    "version": 3
   },
   "file_extension": ".py",
   "mimetype": "text/x-python",
   "name": "python",
   "nbconvert_exporter": "python",
   "pygments_lexer": "ipython3",
   "version": "3.10.14"
  }
 },
 "nbformat": 4,
 "nbformat_minor": 5
}
