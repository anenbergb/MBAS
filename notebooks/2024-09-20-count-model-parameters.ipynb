{
 "cells": [
  {
   "cell_type": "code",
   "execution_count": 1,
   "id": "5452659d",
   "metadata": {},
   "outputs": [],
   "source": [
    "import json\n",
    "import os\n",
    "import copy\n",
    "import torch\n",
    "import pickle\n",
    "\n",
    "from dataclasses import dataclass\n",
    "\n",
    "from batchgenerators.utilities.file_and_folder_operations import load_json\n",
    "\n",
    "from fvcore.nn import FlopCountAnalysis\n",
    "from fvcore.nn import parameter_count_table"
   ]
  },
  {
   "cell_type": "code",
   "execution_count": 2,
   "id": "86de37f0",
   "metadata": {},
   "outputs": [
    {
     "name": "stdout",
     "output_type": "stream",
     "text": [
      "nnUNet_raw is not defined and nnU-Net can only be used on data for which preprocessed files are already present on your system. nnU-Net cannot be used for experiment planning and preprocessing like this. If this is not intended, please read documentation/setting_up_paths.md for information on how to set this up properly.\n",
      "nnUNet_preprocessed is not defined and nnU-Net can not be used for preprocessing or training. If this is not intended, please read documentation/setting_up_paths.md for information on how to set this up.\n",
      "nnUNet_results is not defined and nnU-Net cannot be used for training or inference. If this is not intended behavior, please read documentation/setting_up_paths.md for information on how to set this up.\n"
     ]
    },
    {
     "name": "stderr",
     "output_type": "stream",
     "text": [
      "2024-09-21 11:33:39.514919: I tensorflow/core/util/port.cc:113] oneDNN custom operations are on. You may see slightly different numerical results due to floating-point round-off errors from different computation orders. To turn them off, set the environment variable `TF_ENABLE_ONEDNN_OPTS=0`.\n",
      "2024-09-21 11:33:39.537238: I tensorflow/core/platform/cpu_feature_guard.cc:210] This TensorFlow binary is optimized to use available CPU instructions in performance-critical operations.\n",
      "To enable the following instructions: AVX2 AVX_VNNI FMA, in other operations, rebuild TensorFlow with the appropriate compiler flags.\n",
      "2024-09-21 11:33:39.905945: W tensorflow/compiler/tf2tensorrt/utils/py_utils.cc:38] TF-TRT Warning: Could not find TensorRT\n"
     ]
    }
   ],
   "source": [
    "from mbas.tasks.predict import initialize_model\n",
    "\n",
    "def count_parameters(model):\n",
    "    return sum(p.numel() for p in model.parameters() if p.requires_grad)"
   ]
  },
  {
   "cell_type": "code",
   "execution_count": 36,
   "id": "1e7a43dc",
   "metadata": {},
   "outputs": [
    {
     "name": "stdout",
     "output_type": "stream",
     "text": [
      "Network initialized: <class 'mbas.architectures.MedNeXtV2.MedNeXtV2'>\n"
     ]
    }
   ],
   "source": [
    "\n",
    "model_dir = \"/home/bryan/expr/mbas_nnUNet_results/Dataset104_MBAS/mbasTrainer__plans_2024_08_27__ResEncUNet_3d_lowres_for25_drop50_slim96\"\n",
    "model_dir = \"/home/bryan/expr/mbas_nnUNet_results/Dataset104_MBAS/mbasTrainer__nnUNetResEncUNetMPlans_2024_08_10__3d_fullres\"\n",
    "model_dir = \"/home/bryan/expr/mbas_nnUNet_results/Dataset104_MBAS/mbasTrainer__nnUNetResEncUNetMPlans_2024_08_10__3d_lowres\"\n",
    "\n",
    "\n",
    "model_dir = \"/home/bryan/expr/mbas_nnUNet_results/Dataset104_MBAS/mbasTrainer__plans_2024_08_21__MedNeXtV2_3d_lowres_slim_96\"\n",
    "model_dir = \"/home/bryan/expr/mbas_nnUNet_results/Dataset104_MBAS/mbasTrainer__plans_2024_08_21__MedNeXtV2_3d_lowres_foreground25\"\n",
    "\n",
    "\n",
    "model_dir = \"/home/bryan/expr/mbas_nnUNet_results/Dataset104_MBAS/mbasTrainer__plans_2024_08_24__ResEncUNet_3d_lowres_for25\"\n",
    "model_dir = \"/home/bryan/expr/mbas_nnUNet_results/Dataset104_MBAS/mbasTrainer__plans_2024_08_24__ResEncUNet_3d_lowres_k5_for25\"\n",
    "\n",
    "\n",
    "model_dir = \"/home/bryan/expr/mbas_nnUNet_results/Dataset104_MBAS/mbasTrainer__plans_2024_08_27__ResEncUNet_3d_lowres_for25_drop50_slim128\"\n",
    "model_dir = \"/home/bryan/expr/mbas_nnUNet_results/Dataset104_MBAS/mbasTrainer__plans_2024_08_27__ResEncUNet_3d_lowres_for25_drop50_slim96\"\n",
    "\n",
    "\n",
    "model_dir = \"/home/bryan/expr/mbas_nnUNet_results/Dataset104_MBAS/mbasTrainer__plans_2024_08_27__MedNeXtV2_3d_lowres_for25_drop50_stemStacked_decoderConvTrans\"\n",
    "\n",
    "\n",
    "\n",
    "checkpoint=torch.load(os.path.join(model_dir, \"fold_0\", \"checkpoint_final.pth\"), map_location=torch.device('cpu'))\n",
    "dataset_json=load_json(os.path.join(model_dir, \"dataset.json\"))\n",
    "plans_json = load_json(os.path.join(model_dir, \"plans.json\"))\n",
    "\n",
    "model = initialize_model(\n",
    "    checkpoint,\n",
    "    dataset_json,\n",
    "    plans_json,\n",
    "    postprocessing_kwargs=[],\n",
    "    compiled_model=False,\n",
    "    skip_postprocessing=True\n",
    ")"
   ]
  },
  {
   "cell_type": "code",
   "execution_count": 37,
   "id": "94a47fe3",
   "metadata": {
    "scrolled": false
   },
   "outputs": [
    {
     "name": "stderr",
     "output_type": "stream",
     "text": [
      "Unsupported operator aten::feature_dropout_ encountered 47 time(s)\n",
      "Unsupported operator aten::leaky_relu_ encountered 1 time(s)\n",
      "Unsupported operator aten::gelu encountered 46 time(s)\n",
      "Unsupported operator aten::add_ encountered 46 time(s)\n",
      "Unsupported operator aten::pad encountered 5 time(s)\n",
      "Unsupported operator aten::add encountered 5 time(s)\n",
      "The following submodules of the model were never called during the trace of the graph. They may be unused, or they were accessed by direct calls to .forward() or via other python methods. In the latter case they will have zeros for statistics, though their statistics will still contribute to their parent calling module.\n",
      "decoder.seg_layers.0, decoder.seg_layers.1, decoder.seg_layers.2, decoder.seg_layers.3\n"
     ]
    },
    {
     "name": "stdout",
     "output_type": "stream",
     "text": [
      "# FLOPs: 223.2x10^9\n"
     ]
    }
   ],
   "source": [
    "# image = torch.zeros((1, 1, 20, 256, 256))\n",
    "# image = torch.zeros((1, 1, 32, 384, 384))\n",
    "\n",
    "image = torch.zeros((1, 1, 28, 256, 224))\n",
    "flops = FlopCountAnalysis(model.network, image)\n",
    "flops_exp = flops.total() / 1e9\n",
    "print(f\"# FLOPs: {flops_exp:.1f}x10^9\")"
   ]
  },
  {
   "cell_type": "code",
   "execution_count": 38,
   "id": "1c2a4c85",
   "metadata": {
    "scrolled": true
   },
   "outputs": [
    {
     "name": "stdout",
     "output_type": "stream",
     "text": [
      "# params: 28.3M\n",
      "| name     | #elements or shape   |\n",
      "|:---------|:---------------------|\n",
      "| model    | 28.3M                |\n",
      "|  encoder |  13.4M               |\n",
      "|  decoder |  14.9M               |\n"
     ]
    }
   ],
   "source": [
    "num_params =count_parameters(model.network)\n",
    "print(f\"# params: {num_params / 1e6:.1f}M\")\n",
    "print(parameter_count_table(model.network, max_depth=1))"
   ]
  },
  {
   "cell_type": "code",
   "execution_count": null,
   "id": "bc541c52",
   "metadata": {},
   "outputs": [],
   "source": []
  }
 ],
 "metadata": {
  "kernelspec": {
   "display_name": "Python [conda env:mbas]",
   "language": "python",
   "name": "conda-env-mbas-py"
  },
  "language_info": {
   "codemirror_mode": {
    "name": "ipython",
    "version": 3
   },
   "file_extension": ".py",
   "mimetype": "text/x-python",
   "name": "python",
   "nbconvert_exporter": "python",
   "pygments_lexer": "ipython3",
   "version": "3.10.14"
  }
 },
 "nbformat": 4,
 "nbformat_minor": 5
}
