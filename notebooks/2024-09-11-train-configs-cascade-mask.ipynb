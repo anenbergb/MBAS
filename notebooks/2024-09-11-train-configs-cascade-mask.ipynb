{
 "cells": [
  {
   "cell_type": "code",
   "execution_count": 6,
   "id": "17ea56d9",
   "metadata": {},
   "outputs": [
    {
     "name": "stdout",
     "output_type": "stream",
     "text": [
      "The autoreload extension is already loaded. To reload it, use:\n",
      "  %reload_ext autoreload\n"
     ]
    }
   ],
   "source": [
    "import json\n",
    "import os\n",
    "import copy\n",
    "\n",
    "from mbas.experiment_planning.model_configurator import MBASTrainerConfigurator\n",
    "\n",
    "%load_ext autoreload\n",
    "%autoreload 2"
   ]
  },
  {
   "cell_type": "code",
   "execution_count": 7,
   "id": "43567528",
   "metadata": {},
   "outputs": [],
   "source": [
    "new_config_fpath = \"/home/bryan/data/mbas_nnUNet_preprocessed/Dataset101_MBAS/plans_2024_09_11.json\""
   ]
  },
  {
   "cell_type": "code",
   "execution_count": 11,
   "id": "d7db31f3",
   "metadata": {},
   "outputs": [],
   "source": [
    "configurator = MBASTrainerConfigurator(\n",
    "    os.path.basename(os.path.splitext(new_config_fpath)[0]),\n",
    "    dataset_name = \"Dataset101_MBAS\",\n",
    ")"
   ]
  },
  {
   "cell_type": "code",
   "execution_count": 12,
   "id": "adb88503",
   "metadata": {},
   "outputs": [],
   "source": [
    "configurator.configurations[\"ResEncUNet_p20_256_dil2_bd_cascade_ResEncUNet_08_27_nopost\"] = configurator.set_params(\n",
    "    patch_size=(20,256,256),\n",
    "    data_identifier = \"nnUNetPlans_3d_fullres\",\n",
    "    spacing = (2.5, 0.625, 0.625),\n",
    "    probabilistic_oversampling = True,\n",
    "    oversample_foreground_percent = 1.0,\n",
    "    sample_class_probabilities = {1: 0.5, 2: 0.25, 3: 0.25},\n",
    "    batch_dice = True,\n",
    "    voxel_sample_z_coverage = False,\n",
    ").set_cascade(\n",
    "    cascaded_mask_dilation=2,\n",
    "    is_cascaded_mask=True,\n",
    "    previous_stage=\"Dataset104_ResEncUNet_3d_lowres_for25_drop50_slim96\",\n",
    ").nnUNetResEncUNet(\n",
    "    features_per_stage= [32,64,128,256,320,320,320],\n",
    "    kernel_sizes=[\n",
    "        [1, 3, 3],\n",
    "        [1, 3, 3],\n",
    "        [3, 3, 3],\n",
    "        [3, 3, 3],\n",
    "        [3, 3, 3],\n",
    "        [3, 3, 3],\n",
    "        [3, 3, 3],\n",
    "    ],\n",
    "    strides=[\n",
    "        [1, 1, 1],\n",
    "        [1, 2, 2],\n",
    "        [1, 2, 2],\n",
    "        [2, 2, 2],\n",
    "        [2, 2, 2],\n",
    "        [1, 2, 2],\n",
    "        [1, 2, 2],\n",
    "    ],\n",
    "    n_blocks_per_stage=[1, 3, 4, 6, 6, 6, 6],\n",
    "    n_conv_per_stage_decoder=[1, 1, 1, 1, 1, 1],   \n",
    ")"
   ]
  },
  {
   "cell_type": "code",
   "execution_count": 13,
   "id": "d4e812a8",
   "metadata": {},
   "outputs": [],
   "source": [
    "configurator.save(new_config_fpath)"
   ]
  },
  {
   "cell_type": "code",
   "execution_count": null,
   "id": "cf8ca1e8",
   "metadata": {},
   "outputs": [],
   "source": []
  }
 ],
 "metadata": {
  "kernelspec": {
   "display_name": "Python [conda env:mbas]",
   "language": "python",
   "name": "conda-env-mbas-py"
  },
  "language_info": {
   "codemirror_mode": {
    "name": "ipython",
    "version": 3
   },
   "file_extension": ".py",
   "mimetype": "text/x-python",
   "name": "python",
   "nbconvert_exporter": "python",
   "pygments_lexer": "ipython3",
   "version": "3.10.14"
  }
 },
 "nbformat": 4,
 "nbformat_minor": 5
}
