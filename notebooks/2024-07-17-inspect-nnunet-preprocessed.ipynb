{
 "cells": [
  {
   "cell_type": "code",
   "execution_count": 17,
   "id": "2391081d",
   "metadata": {},
   "outputs": [
    {
     "name": "stdout",
     "output_type": "stream",
     "text": [
      "The autoreload extension is already loaded. To reload it, use:\n",
      "  %reload_ext autoreload\n"
     ]
    }
   ],
   "source": [
    "import os\n",
    "import torchio as tio\n",
    "\n",
    "from mbas.data.nifti import make_subject\n",
    "from mbas.visualize.subject import plot_subject_with_label\n",
    "\n",
    "%load_ext autoreload\n",
    "%autoreload 2\n",
    "\n",
    "import numpy as np\n",
    "import pickle\n",
    "\n",
    "import torch"
   ]
  },
  {
   "cell_type": "code",
   "execution_count": 3,
   "id": "0ed83979",
   "metadata": {},
   "outputs": [],
   "source": [
    "subject_id = \"MBAS_001\"\n",
    "subject = make_subject(\n",
    "    f\"/home/bryan/data/MBAS/Training/{subject_id}\",\n",
    "    \"training\",\n",
    ")"
   ]
  },
  {
   "cell_type": "code",
   "execution_count": 7,
   "id": "49cac108",
   "metadata": {},
   "outputs": [
    {
     "data": {
      "text/plain": [
       "(1, 640, 640, 44)"
      ]
     },
     "execution_count": 7,
     "metadata": {},
     "output_type": "execute_result"
    }
   ],
   "source": [
    "subject.label.shape"
   ]
  },
  {
   "cell_type": "code",
   "execution_count": 18,
   "id": "9a5f1436",
   "metadata": {},
   "outputs": [
    {
     "data": {
      "text/plain": [
       "tensor([0, 1, 2, 3], dtype=torch.uint8)"
      ]
     },
     "execution_count": 18,
     "metadata": {},
     "output_type": "execute_result"
    }
   ],
   "source": [
    "torch.unique(subject.label.data)"
   ]
  },
  {
   "cell_type": "code",
   "execution_count": 10,
   "id": "b3df248f",
   "metadata": {},
   "outputs": [],
   "source": [
    "pre_subject_label = np.load(\"/home/bryan/data/mbas_nnUNet_preprocessed/Dataset101_MBAS/MedNeXtPlans_3d_fullres/MBAS_001_seg.npy\")"
   ]
  },
  {
   "cell_type": "code",
   "execution_count": 11,
   "id": "a3df5799",
   "metadata": {},
   "outputs": [
    {
     "data": {
      "text/plain": [
       "(1, 44, 638, 638)"
      ]
     },
     "execution_count": 11,
     "metadata": {},
     "output_type": "execute_result"
    }
   ],
   "source": [
    "pre_subject_label.shape"
   ]
  },
  {
   "cell_type": "code",
   "execution_count": 14,
   "id": "0f8fef06",
   "metadata": {},
   "outputs": [
    {
     "data": {
      "text/plain": [
       "array([-1,  0,  1,  2,  3], dtype=int8)"
      ]
     },
     "execution_count": 14,
     "metadata": {},
     "output_type": "execute_result"
    }
   ],
   "source": [
    "np.unique(pre_subject_label)"
   ]
  },
  {
   "cell_type": "code",
   "execution_count": 8,
   "id": "88023b7f",
   "metadata": {},
   "outputs": [],
   "source": [
    "pre_subject_mri = np.load(\"/home/bryan/data/mbas_nnUNet_preprocessed/Dataset101_MBAS/MedNeXtPlans_3d_fullres/MBAS_001.npy\")"
   ]
  },
  {
   "cell_type": "code",
   "execution_count": 9,
   "id": "0d1ae35a",
   "metadata": {},
   "outputs": [
    {
     "data": {
      "text/plain": [
       "(1, 44, 638, 638)"
      ]
     },
     "execution_count": 9,
     "metadata": {},
     "output_type": "execute_result"
    }
   ],
   "source": [
    "pre_subject_mri.shape"
   ]
  },
  {
   "cell_type": "code",
   "execution_count": null,
   "id": "e585ef74",
   "metadata": {},
   "outputs": [],
   "source": []
  }
 ],
 "metadata": {
  "kernelspec": {
   "display_name": "Python [conda env:mbas]",
   "language": "python",
   "name": "conda-env-mbas-py"
  },
  "language_info": {
   "codemirror_mode": {
    "name": "ipython",
    "version": 3
   },
   "file_extension": ".py",
   "mimetype": "text/x-python",
   "name": "python",
   "nbconvert_exporter": "python",
   "pygments_lexer": "ipython3",
   "version": "3.10.14"
  }
 },
 "nbformat": 4,
 "nbformat_minor": 5
}
