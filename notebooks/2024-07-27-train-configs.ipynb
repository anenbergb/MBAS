{
 "cells": [
  {
   "cell_type": "code",
   "execution_count": 1,
   "id": "238c7eef",
   "metadata": {},
   "outputs": [],
   "source": [
    "import json\n",
    "import os\n",
    "import copy"
   ]
  },
  {
   "cell_type": "code",
   "execution_count": 2,
   "id": "b4f4fc9e",
   "metadata": {},
   "outputs": [],
   "source": [
    "base_config_fpath = \"/home/bryan/data/mbas_nnUNet_preprocessed/Dataset101_MBAS/MedNeXtPlans.json\"\n",
    "\n",
    "new_config_fpath = \"/home/bryan/data/mbas_nnUNet_preprocessed/Dataset101_MBAS/MedNeXtPlans_2024_07_27.json\""
   ]
  },
  {
   "cell_type": "code",
   "execution_count": 3,
   "id": "a2ed7c28",
   "metadata": {},
   "outputs": [],
   "source": [
    "with open(base_config_fpath, \"r\") as f:\n",
    "    base_config = json.load(f)"
   ]
  },
  {
   "cell_type": "code",
   "execution_count": 4,
   "id": "d4b35930",
   "metadata": {},
   "outputs": [],
   "source": [
    "base_model_config = base_config[\"configurations\"][\"3d_fullres\"]"
   ]
  },
  {
   "cell_type": "code",
   "execution_count": 5,
   "id": "12b75627",
   "metadata": {},
   "outputs": [],
   "source": [
    "def set_model_params(\n",
    "    base_config,\n",
    "    batch_size = 2,\n",
    "    patch_size = (16, 256, 256),\n",
    "    features_per_stage = (32, 64, 128, 256, 320, 320, 320),\n",
    "    stem_kernel_size = 1,\n",
    "    kernel_sizes = [\n",
    "        (1,3,3),\n",
    "        (1,3,3), \n",
    "        (3,3,3),\n",
    "        (3,3,3),\n",
    "        (3,3,3),\n",
    "        (3,3,3),\n",
    "        (3,3,3),\n",
    "    ],\n",
    "    strides = [\n",
    "        (1,1,1),\n",
    "        (1,2,2),\n",
    "        (1,2,2),\n",
    "        (2,2,2),\n",
    "        (2,2,2),\n",
    "        (2,2,2),\n",
    "        (2,2,2),\n",
    "    ],\n",
    "    n_blocks_per_stage = [3,4,6,6,6,6,6],\n",
    "    exp_ratio_per_stage = [2,3,4,4,4,4,4],\n",
    "    n_blocks_per_stage_decoder = None,\n",
    "    exp_ratio_per_stage_decoder = None,\n",
    "    norm_type = \"group\",\n",
    "    enable_affine_transform = False,\n",
    "    decode_stem_kernel_size=3,\n",
    "    override_down_kernel_size = True,\n",
    "    down_kernel_size = 1,\n",
    "    alpha_stepsize = 5,\n",
    "    oversample_foreground_percent = 0.33,\n",
    "    probabilistic_oversampling = False,\n",
    "    sample_class_probabilities = None\n",
    "):\n",
    "    config_copy = copy.deepcopy(base_config)\n",
    "    config_copy[\"batch_size\"] = batch_size\n",
    "    config_copy[\"patch_size\"] = patch_size\n",
    "    config_copy[\"boundary_loss_alpha_stepsize\"] = alpha_stepsize\n",
    "    config_copy[\"oversample_foreground_percent\"] = oversample_foreground_percent\n",
    "    config_copy[\"probabilistic_oversampling\"] = probabilistic_oversampling\n",
    "    config_copy[\"sample_class_probabilities\"] = sample_class_probabilities\n",
    "\n",
    "    \n",
    "    arch = config_copy[\"architecture\"][\"arch_kwargs\"]\n",
    "    \n",
    "    n_stages = len(features_per_stage)\n",
    "    assert len(kernel_sizes) == n_stages\n",
    "    assert len(strides) == n_stages\n",
    "    assert len(n_blocks_per_stage) == n_stages\n",
    "    assert len(exp_ratio_per_stage) == n_stages\n",
    "    if n_blocks_per_stage_decoder is None:\n",
    "        n_blocks_per_stage_decoder = n_blocks_per_stage[:-1][::-1] + [n_blocks_per_stage[0]]\n",
    "    assert len(n_blocks_per_stage_decoder) == n_stages\n",
    "    if exp_ratio_per_stage_decoder is None:\n",
    "        exp_ratio_per_stage_decoder = exp_ratio_per_stage[:-1][::-1] + [exp_ratio_per_stage[0]]\n",
    "    assert len(exp_ratio_per_stage_decoder) == n_stages\n",
    "    \n",
    "    arch[\"n_stages\"] = n_stages\n",
    "    arch[\"features_per_stage\"] = features_per_stage\n",
    "    arch[\"stem_kernel_size\"] = stem_kernel_size\n",
    "    arch[\"kernel_sizes\"] = kernel_sizes\n",
    "    arch[\"strides\"] = strides\n",
    "    arch[\"n_blocks_per_stage\"] = n_blocks_per_stage\n",
    "    arch[\"exp_ratio_per_stage\"] = exp_ratio_per_stage\n",
    "    arch[\"n_blocks_per_stage_decoder\"] = n_blocks_per_stage_decoder\n",
    "    arch[\"exp_ratio_per_stage_decoder\"] = exp_ratio_per_stage_decoder\n",
    "    arch[\"norm_type\"] = norm_type\n",
    "    arch[\"enable_affine_transform\"] = enable_affine_transform\n",
    "    arch[\"decode_stem_kernel_size\"] = decode_stem_kernel_size\n",
    "    arch[\"override_down_kernel_size\"] = override_down_kernel_size\n",
    "    arch[\"down_kernel_size\"] = down_kernel_size\n",
    "    return config_copy"
   ]
  },
  {
   "cell_type": "code",
   "execution_count": 6,
   "id": "d9da3572",
   "metadata": {},
   "outputs": [],
   "source": [
    "new_config = copy.deepcopy(base_config)\n",
    "new_config[\"plans_name\"] = os.path.basename(os.path.splitext(new_config_fpath)[0])\n",
    "\n",
    "new_config[\"configurations\"][\"slim_128_oversample_08\"] = set_model_params(\n",
    "    base_model_config,\n",
    "    override_down_kernel_size = False,\n",
    "    features_per_stage = (32, 64, 128, 128, 128, 128, 128),\n",
    "    oversample_foreground_percent=1.0,\n",
    "    probabilistic_oversampling = True,\n",
    "    sample_class_probabilities = {1: 0.8, 2: 0.1, 3: 0.1}\n",
    ")\n",
    "new_config[\"configurations\"][\"slim_128_oversample_05\"] = set_model_params(\n",
    "    base_model_config,\n",
    "    override_down_kernel_size = False,\n",
    "    features_per_stage = (32, 64, 128, 128, 128, 128, 128),\n",
    "    oversample_foreground_percent=1.0,\n",
    "    probabilistic_oversampling = True,\n",
    "    sample_class_probabilities = {1: 0.5, 2: 0.25, 3: 0.25}\n",
    ")"
   ]
  },
  {
   "cell_type": "code",
   "execution_count": 10,
   "id": "1b7f30d2",
   "metadata": {},
   "outputs": [],
   "source": [
    "with open(new_config_fpath, \"w\") as f:\n",
    "    json.dump(new_config, f, indent=2)"
   ]
  },
  {
   "cell_type": "code",
   "execution_count": 8,
   "id": "e08c56be",
   "metadata": {},
   "outputs": [
    {
     "data": {
      "text/plain": [
       "'MedNeXtPlans_2024_07_27'"
      ]
     },
     "execution_count": 8,
     "metadata": {},
     "output_type": "execute_result"
    }
   ],
   "source": [
    "new_config[\"plans_name\"]"
   ]
  },
  {
   "cell_type": "code",
   "execution_count": 9,
   "id": "88ed3340",
   "metadata": {
    "scrolled": true
   },
   "outputs": [
    {
     "data": {
      "text/plain": [
       "{'data_identifier': 'MedNeXtPlans_3d_fullres',\n",
       " 'preprocessor_name': 'DefaultPreprocessor',\n",
       " 'batch_size': 2,\n",
       " 'patch_size': (16, 256, 256),\n",
       " 'median_image_size_in_voxels': [44.0, 592.5, 581.0],\n",
       " 'spacing': [2.5, 0.625, 0.625],\n",
       " 'normalization_schemes': ['ZScoreNormalization'],\n",
       " 'use_mask_for_norm': [False],\n",
       " 'resampling_fn_data': 'resample_data_or_seg_to_shape',\n",
       " 'resampling_fn_seg': 'resample_data_or_seg_to_shape',\n",
       " 'resampling_fn_data_kwargs': {'is_seg': False,\n",
       "  'order': 3,\n",
       "  'order_z': 0,\n",
       "  'force_separate_z': None},\n",
       " 'resampling_fn_seg_kwargs': {'is_seg': True,\n",
       "  'order': 1,\n",
       "  'order_z': 0,\n",
       "  'force_separate_z': None},\n",
       " 'resampling_fn_probabilities': 'resample_data_or_seg_to_shape',\n",
       " 'resampling_fn_probabilities_kwargs': {'is_seg': False,\n",
       "  'order': 1,\n",
       "  'order_z': 0,\n",
       "  'force_separate_z': None},\n",
       " 'architecture': {'network_class_name': 'mbas.architectures.MedNeXt.MedNeXt',\n",
       "  'arch_kwargs': {'n_stages': 7,\n",
       "   'features_per_stage': (32, 64, 128, 128, 128, 128, 128),\n",
       "   'conv_op': 'torch.nn.modules.conv.Conv3d',\n",
       "   'stem_kernel_size': 1,\n",
       "   'kernel_sizes': [(1, 3, 3),\n",
       "    (1, 3, 3),\n",
       "    (3, 3, 3),\n",
       "    (3, 3, 3),\n",
       "    (3, 3, 3),\n",
       "    (3, 3, 3),\n",
       "    (3, 3, 3)],\n",
       "   'strides': [(1, 1, 1),\n",
       "    (1, 2, 2),\n",
       "    (1, 2, 2),\n",
       "    (2, 2, 2),\n",
       "    (2, 2, 2),\n",
       "    (2, 2, 2),\n",
       "    (2, 2, 2)],\n",
       "   'n_blocks_per_stage': [3, 4, 6, 6, 6, 6, 6],\n",
       "   'exp_ratio_per_stage': [2, 3, 4, 4, 4, 4, 4],\n",
       "   'n_blocks_per_stage_decoder': [6, 6, 6, 6, 4, 3, 3],\n",
       "   'exp_ratio_per_stage_decoder': [4, 4, 4, 4, 3, 2, 2],\n",
       "   'norm_type': 'group',\n",
       "   'enable_affine_transform': False,\n",
       "   'decode_stem_kernel_size': 3,\n",
       "   'override_down_kernel_size': False,\n",
       "   'down_kernel_size': 1},\n",
       "  '_kw_requires_import': ['conv_op']},\n",
       " 'batch_dice': True,\n",
       " 'boundary_loss_alpha_stepsize': 5,\n",
       " 'oversample_foreground_percent': 1.0,\n",
       " 'probabilistic_oversampling': True,\n",
       " 'sample_class_probabilities': {1: 0.5, 2: 0.25, 3: 0.25}}"
      ]
     },
     "execution_count": 9,
     "metadata": {},
     "output_type": "execute_result"
    }
   ],
   "source": [
    "new_config[\"configurations\"][\"slim_128_oversample_05\"]"
   ]
  },
  {
   "cell_type": "code",
   "execution_count": null,
   "id": "b1cc095a",
   "metadata": {},
   "outputs": [],
   "source": []
  }
 ],
 "metadata": {
  "kernelspec": {
   "display_name": "Python [conda env:mbas]",
   "language": "python",
   "name": "conda-env-mbas-py"
  },
  "language_info": {
   "codemirror_mode": {
    "name": "ipython",
    "version": 3
   },
   "file_extension": ".py",
   "mimetype": "text/x-python",
   "name": "python",
   "nbconvert_exporter": "python",
   "pygments_lexer": "ipython3",
   "version": "3.10.14"
  }
 },
 "nbformat": 4,
 "nbformat_minor": 5
}
