{
 "cells": [
  {
   "cell_type": "code",
   "execution_count": 44,
   "id": "1fcd5d18",
   "metadata": {},
   "outputs": [],
   "source": [
    "import numpy as np\n",
    "import pickle\n",
    "import nibabel as nib\n",
    "import os"
   ]
  },
  {
   "cell_type": "code",
   "execution_count": 45,
   "id": "e7fcc16c",
   "metadata": {},
   "outputs": [],
   "source": [
    "preprocessed_folder = \"/home/bryan/data/mbas_nnUNet_preprocessed/Dataset101_MBAS/MedNeXtPlans_3d_fullres\""
   ]
  },
  {
   "cell_type": "code",
   "execution_count": 56,
   "id": "7f56d18e",
   "metadata": {},
   "outputs": [],
   "source": [
    "subject_id = \"MBAS_001\"\n",
    "\n",
    "npy = np.load(os.path.join(preprocessed_folder, f\"{subject_id}.npy\"))\n",
    "npz = np.load(os.path.join(preprocessed_folder, f\"{subject_id}.npz\"))\n",
    "with open(os.path.join(preprocessed_folder, f\"{subject_id}.pkl\"), \"rb\") as f:\n",
    "    pkl = pickle.load(f)\n",
    "seg_npy = np.load(os.path.join(preprocessed_folder, f\"{subject_id}_seg.npy\"))"
   ]
  },
  {
   "cell_type": "code",
   "execution_count": 57,
   "id": "9ed0f364",
   "metadata": {},
   "outputs": [
    {
     "name": "stdout",
     "output_type": "stream",
     "text": [
      "npy (1, 44, 638, 638) float32\n",
      "\trange: [-0.6321948766708374, 9.467267036437988]\n",
      "seg_npy (1, 44, 638, 638) int8\n",
      "\t(array([-1,  0,  1,  2,  3], dtype=int8), array([  660988, 16951668,    68342,   126532,   102406]))\n",
      "cropped npz[data] (1, 44, 638, 638) float32\n",
      "\trange: [-0.6321948766708374, 9.467267036437988]\n",
      "cropped npz[seg] (1, 44, 638, 638) int8\n",
      "\t(array([-1,  0,  1,  2,  3], dtype=int8), array([  660988, 16951668,    68342,   126532,   102406]))\n"
     ]
    }
   ],
   "source": [
    "def print_tensor(tensor, name, force_unique=False):\n",
    "    print(name, tensor.shape, tensor.dtype)\n",
    "    if tensor.dtype == np.float32:\n",
    "        print(f\"\\trange: [{tensor.min()}, {tensor.max()}]\")\n",
    "    elif tensor.dtype in (np.int8, np.uint8) or force_unique:\n",
    "        print(f\"\\t{np.unique(tensor.flatten(), return_counts=True)}\")\n",
    "        \n",
    "\n",
    "print_tensor(npy, \"npy\")\n",
    "print_tensor(seg_npy, \"seg_npy\")\n",
    "print_tensor(npz[\"data\"], \"cropped npz[data]\")\n",
    "print_tensor(npz[\"seg\"], \"cropped npz[seg]\")"
   ]
  },
  {
   "cell_type": "code",
   "execution_count": 58,
   "id": "2e919309",
   "metadata": {
    "scrolled": false
   },
   "outputs": [
    {
     "data": {
      "text/plain": [
       "{'sitk_stuff': {'spacing': (0.625, 0.625, 2.5),\n",
       "  'origin': (-190.72938537597656, -180.62953186035156, -26.63135528564453),\n",
       "  'direction': (1.0, 0.0, 0.0, 0.0, 1.0, 0.0, 0.0, 0.0, 1.0)},\n",
       " 'spacing': [2.5, 0.625, 0.625],\n",
       " 'shape_before_cropping': (44, 640, 640),\n",
       " 'bbox_used_for_cropping': [[0, 44], [1, 639], [1, 639]],\n",
       " 'shape_after_cropping_and_before_resampling': (44, 638, 638),\n",
       " 'class_locations': {1: array([[  0,  11, 284, 255],\n",
       "         [  0,  25, 288, 289],\n",
       "         [  0,   4, 270, 269],\n",
       "         ...,\n",
       "         [  0,  15, 345, 382],\n",
       "         [  0,  20, 287, 255],\n",
       "         [  0,   4, 239, 270]]),\n",
       "  2: array([[  0,   7, 226, 297],\n",
       "         [  0,   3, 323, 274],\n",
       "         [  0,   9, 211, 295],\n",
       "         ...,\n",
       "         [  0,  12, 224, 308],\n",
       "         [  0,  16, 243, 298],\n",
       "         [  0,  10, 246, 270]]),\n",
       "  3: array([[  0,  25, 332, 385],\n",
       "         [  0,  25, 309, 327],\n",
       "         [  0,  32, 337, 363],\n",
       "         ...,\n",
       "         [  0,  15, 318, 384],\n",
       "         [  0,  31, 332, 338],\n",
       "         [  0,  31, 308, 334]])}}"
      ]
     },
     "execution_count": 58,
     "metadata": {},
     "output_type": "execute_result"
    }
   ],
   "source": [
    "pkl"
   ]
  },
  {
   "cell_type": "code",
   "execution_count": 36,
   "id": "51f54677",
   "metadata": {},
   "outputs": [],
   "source": [
    "# folder_with_segs_from_previous_stage should contain .npz files"
   ]
  },
  {
   "cell_type": "code",
   "execution_count": 46,
   "id": "a95796f0",
   "metadata": {},
   "outputs": [],
   "source": [
    "# Example item from folder_with_segs_from_previous_stage\n",
    "prev_npz = np.load(\"/home/bryan/expr/nnUNet_results/Dataset101_MBAS/nnUNetTrainer_250epochs__nnUNetPlans__3d_cascade_fullres_from_only_atrium/predicted_next_stage/3d_cascade_fullres_from_only_atrium/MBAS_001.npz\")\n",
    "\n",
    "# Example validation output prediction\n",
    "prev_val_gz = nib.load(\"/home/bryan/expr/nnUNet_results/Dataset101_MBAS/nnUNetTrainer_250epochs__nnUNetPlans__3d_cascade_fullres_from_only_atrium/fold_2/validation/MBAS_001.nii.gz\")\n",
    "prev_val_gz = prev_val_gz.get_fdata()"
   ]
  },
  {
   "cell_type": "code",
   "execution_count": 51,
   "id": "562d98a8",
   "metadata": {},
   "outputs": [
    {
     "name": "stdout",
     "output_type": "stream",
     "text": [
      "seg_from_prev_stage (44, 638, 638) uint8\n",
      "\t(array([0, 1, 2, 3], dtype=uint8), array([17606737,    74050,   121484,   107665]))\n",
      "val predictions (640, 640, 44) float64\n",
      "\t(array([0., 1., 2., 3.]), array([17719201,    74050,   121484,   107665]))\n"
     ]
    }
   ],
   "source": [
    "print_tensor(prev_npz[\"seg\"], \"seg_from_prev_stage\")\n",
    "print_tensor(prev_val_gz, \"val predictions\", force_unique=True)"
   ]
  },
  {
   "cell_type": "code",
   "execution_count": 72,
   "id": "cffc6546",
   "metadata": {},
   "outputs": [],
   "source": [
    "from acvl_utils.cropping_and_padding.bounding_boxes import bounding_box_to_slice\n",
    "\n",
    "\n",
    "prediction_trans = prev_val_gz.astype(np.uint8).transpose([2,1,0])\n",
    "bbox_used_for_cropping = pkl[\"bbox_used_for_cropping\"]\n",
    "slicer = bounding_box_to_slice(bbox_used_for_cropping)\n",
    "prediction_cropped = prediction_trans[slicer]"
   ]
  },
  {
   "cell_type": "code",
   "execution_count": 73,
   "id": "a07b48c8",
   "metadata": {},
   "outputs": [
    {
     "data": {
      "text/plain": [
       "(44, 638, 638)"
      ]
     },
     "execution_count": 73,
     "metadata": {},
     "output_type": "execute_result"
    }
   ],
   "source": [
    "prediction_cropped.shape"
   ]
  },
  {
   "cell_type": "code",
   "execution_count": 74,
   "id": "d11b056a",
   "metadata": {},
   "outputs": [
    {
     "data": {
      "text/plain": [
       "(44, 638, 638)"
      ]
     },
     "execution_count": 74,
     "metadata": {},
     "output_type": "execute_result"
    }
   ],
   "source": [
    "prev_npz[\"seg\"].shape"
   ]
  },
  {
   "cell_type": "code",
   "execution_count": 75,
   "id": "6f280968",
   "metadata": {},
   "outputs": [
    {
     "data": {
      "text/plain": [
       "True"
      ]
     },
     "execution_count": 75,
     "metadata": {},
     "output_type": "execute_result"
    }
   ],
   "source": [
    "np.allclose(\n",
    "    prediction_cropped,\n",
    "    prev_npz[\"seg\"]\n",
    ")"
   ]
  },
  {
   "cell_type": "code",
   "execution_count": 76,
   "id": "aa9920cb",
   "metadata": {},
   "outputs": [
    {
     "data": {
      "text/plain": [
       "<matplotlib.image.AxesImage at 0x7e6b94fe27d0>"
      ]
     },
     "execution_count": 76,
     "metadata": {},
     "output_type": "execute_result"
    },
    {
     "data": {
      "image/png": "[encoded data removed]",
      "text/plain": [
       "<Figure size 640x480 with 1 Axes>"
      ]
     },
     "metadata": {},
     "output_type": "display_data"
    }
   ],
   "source": [
    "from PIL import Image\n",
    "import matplotlib.pyplot as plt\n",
    "%matplotlib inline\n",
    "\n",
    "plt.imshow(prediction_cropped[10], cmap=\"gray\")"
   ]
  },
  {
   "cell_type": "code",
   "execution_count": 77,
   "id": "ca501565",
   "metadata": {},
   "outputs": [
    {
     "data": {
      "text/plain": [
       "<matplotlib.image.AxesImage at 0x7e6b87e10550>"
      ]
     },
     "execution_count": 77,
     "metadata": {},
     "output_type": "execute_result"
    },
    {
     "data": {
      "image/png": "[encoded data removed]",
      "text/plain": [
       "<Figure size 640x480 with 1 Axes>"
      ]
     },
     "metadata": {},
     "output_type": "display_data"
    }
   ],
   "source": [
    "plt.imshow(prev_npz[\"seg\"][10], cmap=\"gray\")"
   ]
  },
  {
   "cell_type": "code",
   "execution_count": 78,
   "id": "80465474",
   "metadata": {},
   "outputs": [
    {
     "data": {
      "text/plain": [
       "NpzFile '/home/bryan/expr/nnUNet_results/Dataset101_MBAS/nnUNetTrainer_250epochs__nnUNetPlans__3d_cascade_fullres_from_only_atrium/predicted_next_stage/3d_cascade_fullres_from_only_atrium/MBAS_001.npz' with keys: seg"
      ]
     },
     "execution_count": 78,
     "metadata": {},
     "output_type": "execute_result"
    }
   ],
   "source": [
    "prev_npz"
   ]
  }
 ],
 "metadata": {
  "kernelspec": {
   "display_name": "Python [conda env:mbas]",
   "language": "python",
   "name": "conda-env-mbas-py"
  },
  "language_info": {
   "codemirror_mode": {
    "name": "ipython",
    "version": 3
   },
   "file_extension": ".py",
   "mimetype": "text/x-python",
   "name": "python",
   "nbconvert_exporter": "python",
   "pygments_lexer": "ipython3",
   "version": "3.10.14"
  }
 },
 "nbformat": 4,
 "nbformat_minor": 5
}
