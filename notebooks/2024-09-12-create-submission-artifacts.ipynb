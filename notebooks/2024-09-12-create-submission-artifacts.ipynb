{
 "cells": [
  {
   "cell_type": "code",
   "execution_count": 1,
   "id": "47ab6494",
   "metadata": {},
   "outputs": [],
   "source": [
    "import json\n",
    "import os\n",
    "import copy\n",
    "import torch\n",
    "import pickle\n",
    "\n",
    "from dataclasses import dataclass\n",
    "\n",
    "from batchgenerators.utilities.file_and_folder_operations import load_json"
   ]
  },
  {
   "cell_type": "code",
   "execution_count": 2,
   "id": "e3142063",
   "metadata": {},
   "outputs": [],
   "source": [
    "stage_1_dir = \"/home/bryan/expr/mbas_nnUNet_results/Dataset104_MBAS/mbasTrainer__plans_2024_08_27__ResEncUNet_3d_lowres_for25_drop50_slim96\"\n",
    "stage_2_dir = \"/home/bryan/expr/mbas_nnUNet_results/Dataset101_MBAS/mbasTrainer__plans_2024_08_30__ResEncUNet_p20_256_dil2_batch_dice_cascade_ResEncUNet_08_27\"\n",
    "\n",
    "@dataclass\n",
    "class Parameters2Stage:\n",
    "    stage1_checkpoint: dict\n",
    "    stage1_dataset: dict\n",
    "    stage1_plans: dict\n",
    "    stage1_postprocessing_kwargs: list\n",
    "\n",
    "    stage2_checkpoint: dict\n",
    "    stage2_dataset: dict\n",
    "    stage2_plans: dict\n",
    "    stage2_postprocessing_kwargs: list\n",
    "\n",
    "\n",
    "parameters = Parameters2Stage(\n",
    "    stage1_checkpoint=torch.load(os.path.join(stage_1_dir, \"fold_all\", \"checkpoint_final.pth\"), map_location=torch.device('cpu')),\n",
    "    stage1_dataset=load_json(os.path.join(stage_1_dir, \"dataset.json\")),\n",
    "    stage1_plans=load_json(os.path.join(stage_1_dir, \"plans.json\")),\n",
    "    stage1_postprocessing_kwargs = [{'labels_or_regions': 1}],\n",
    "    stage2_checkpoint=torch.load(os.path.join(stage_2_dir, \"fold_all\", \"checkpoint_final.pth\"), map_location=torch.device('cpu')),\n",
    "    stage2_dataset=load_json(os.path.join(stage_2_dir, \"dataset.json\")),\n",
    "    stage2_plans=load_json(os.path.join(stage_2_dir, \"plans.json\")),\n",
    "    stage2_postprocessing_kwargs = [\n",
    "        {'labels_or_regions': 1},\n",
    "        {'labels_or_regions': 2},\n",
    "        {'labels_or_regions': 3}\n",
    "    ]\n",
    ")\n",
    "\n",
    "parameters_debug = Parameters2Stage(\n",
    "    stage1_checkpoint=torch.load(os.path.join(stage_1_dir, \"fold_0\", \"checkpoint_final.pth\"), map_location=torch.device('cpu')),\n",
    "    stage1_dataset=load_json(os.path.join(stage_1_dir, \"dataset.json\")),\n",
    "    stage1_plans=load_json(os.path.join(stage_1_dir, \"plans.json\")),\n",
    "    stage1_postprocessing_kwargs = [{'labels_or_regions': 1}],\n",
    "    stage2_checkpoint=torch.load(os.path.join(stage_2_dir, \"fold_0\", \"checkpoint_final.pth\"), map_location=torch.device('cpu')),\n",
    "    stage2_dataset=load_json(os.path.join(stage_2_dir, \"dataset.json\")),\n",
    "    stage2_plans=load_json(os.path.join(stage_2_dir, \"plans.json\")),\n",
    "    stage2_postprocessing_kwargs = [\n",
    "        {'labels_or_regions': [1, 2, 3]},\n",
    "        {'labels_or_regions': 1}\n",
    "    ]\n",
    ")"
   ]
  },
  {
   "cell_type": "code",
   "execution_count": 3,
   "id": "c1c04b30",
   "metadata": {},
   "outputs": [],
   "source": [
    "save_path = \"/home/bryan/expr/MBAS/final_submissions/test.pth\"\n",
    "with open(save_path, 'wb') as f:\n",
    "    pickle.dump(parameters, f)"
   ]
  },
  {
   "cell_type": "code",
   "execution_count": 4,
   "id": "de1e1327",
   "metadata": {},
   "outputs": [],
   "source": [
    "save_path = \"/home/bryan/expr/MBAS/final_submissions/test_debug.pth\"\n",
    "with open(save_path, 'wb') as f:\n",
    "    pickle.dump(parameters_debug, f)"
   ]
  },
  {
   "cell_type": "code",
   "execution_count": null,
   "id": "b5982dfb",
   "metadata": {},
   "outputs": [],
   "source": []
  }
 ],
 "metadata": {
  "kernelspec": {
   "display_name": "Python [conda env:mbas]",
   "language": "python",
   "name": "conda-env-mbas-py"
  },
  "language_info": {
   "codemirror_mode": {
    "name": "ipython",
    "version": 3
   },
   "file_extension": ".py",
   "mimetype": "text/x-python",
   "name": "python",
   "nbconvert_exporter": "python",
   "pygments_lexer": "ipython3",
   "version": "3.10.14"
  }
 },
 "nbformat": 4,
 "nbformat_minor": 5
}
