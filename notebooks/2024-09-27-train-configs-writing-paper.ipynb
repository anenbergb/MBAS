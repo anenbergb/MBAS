{
 "cells": [
  {
   "cell_type": "code",
   "execution_count": 1,
   "id": "17ea56d9",
   "metadata": {},
   "outputs": [],
   "source": [
    "import json\n",
    "import os\n",
    "import copy\n",
    "\n",
    "from mbas.experiment_planning.model_configurator import MBASTrainerConfigurator\n",
    "\n",
    "%load_ext autoreload\n",
    "%autoreload 2"
   ]
  },
  {
   "cell_type": "code",
   "execution_count": 2,
   "id": "43567528",
   "metadata": {},
   "outputs": [],
   "source": [
    "new_config_fpath = \"/home/bryan/data/mbas_nnUNet_preprocessed/Dataset101_MBAS/plans_2024_09_27_stage1.json\""
   ]
  },
  {
   "cell_type": "code",
   "execution_count": 3,
   "id": "d7db31f3",
   "metadata": {},
   "outputs": [],
   "source": [
    "configurator = MBASTrainerConfigurator(\n",
    "    os.path.basename(os.path.splitext(new_config_fpath)[0]),\n",
    "    dataset_name = \"Dataset104_MBAS\",\n",
    ")"
   ]
  },
  {
   "cell_type": "code",
   "execution_count": 4,
   "id": "adb88503",
   "metadata": {},
   "outputs": [],
   "source": [
    "configurator.configurations[\"ResEncUNet_3d_lowres_for25_drop50_slim96\"] = configurator.set_params(\n",
    "    patch_size=(28,256,224),\n",
    "    data_identifier = \"nnUNetResEncUNetMPlans_3d_lowres\",\n",
    "    spacing = (2.5, 0.9737296353754783, 0.9737296353754783),\n",
    "    probabilistic_oversampling = True,\n",
    "    oversample_foreground_percent = 0.25,\n",
    ").nnUNetResEncUNet(\n",
    "    dropout_op = \"torch.nn.modules.dropout.Dropout3d\",\n",
    "    dropout_op_kwargs = {\n",
    "        \"p\":  0.5,\n",
    "        \"inplace\": True,\n",
    "    },\n",
    "    features_per_stage=(32, 32, 64, 96, 96, 96),\n",
    "    n_blocks_per_stage=[1, 3, 4, 6, 6, 6],\n",
    ")"
   ]
  },
  {
   "cell_type": "code",
   "execution_count": 5,
   "id": "d4e812a8",
   "metadata": {},
   "outputs": [],
   "source": [
    "configurator.save(new_config_fpath)"
   ]
  },
  {
   "cell_type": "code",
   "execution_count": null,
   "id": "cdd22cac",
   "metadata": {},
   "outputs": [],
   "source": []
  }
 ],
 "metadata": {
  "kernelspec": {
   "display_name": "Python [conda env:mbas]",
   "language": "python",
   "name": "conda-env-mbas-py"
  },
  "language_info": {
   "codemirror_mode": {
    "name": "ipython",
    "version": 3
   },
   "file_extension": ".py",
   "mimetype": "text/x-python",
   "name": "python",
   "nbconvert_exporter": "python",
   "pygments_lexer": "ipython3",
   "version": "3.10.14"
  }
 },
 "nbformat": 4,
 "nbformat_minor": 5
}
