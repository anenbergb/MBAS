{
 "cells": [
  {
   "cell_type": "code",
   "execution_count": 7,
   "id": "36225c12",
   "metadata": {},
   "outputs": [],
   "source": [
    "import os\n",
    "import shutil"
   ]
  },
  {
   "cell_type": "code",
   "execution_count": 2,
   "id": "a6673447",
   "metadata": {},
   "outputs": [],
   "source": [
    "predictions_dir = \"/home/bryan/expr/mbas_nnUNet_results/Dataset101_MBAS/nnUNetTrainer_MedNeXt__MedNeXtPlans__3d_fullres/fold_all/validation_71_100\"\n",
    "\n",
    "submission_dir = \"/home/bryan/expr/MBAS/validation_submissions/Try1/caidm_ValPhase_Try1\""
   ]
  },
  {
   "cell_type": "code",
   "execution_count": 10,
   "id": "c2079ef7",
   "metadata": {},
   "outputs": [],
   "source": [
    "os.makedirs(submission_dir, exist_ok=True)\n",
    "for filename in os.listdir(predictions_dir):\n",
    "    if filename.endswith(\".nii.gz\"):\n",
    "        len_ext = len(\".nii.gz\")\n",
    "        id_prefix = filename[:-len_ext]\n",
    "        new_filename = f\"{id_prefix}_label.nii.gz\"\n",
    "        shutil.copy(\n",
    "            os.path.join(predictions_dir, filename),\n",
    "            os.path.join(submission_dir, new_filename)\n",
    "        )    "
   ]
  },
  {
   "cell_type": "code",
   "execution_count": 8,
   "id": "1c76dec2",
   "metadata": {},
   "outputs": [],
   "source": [
    "shutil.copy?"
   ]
  }
 ],
 "metadata": {
  "kernelspec": {
   "display_name": "Python [conda env:mbas]",
   "language": "python",
   "name": "conda-env-mbas-py"
  },
  "language_info": {
   "codemirror_mode": {
    "name": "ipython",
    "version": 3
   },
   "file_extension": ".py",
   "mimetype": "text/x-python",
   "name": "python",
   "nbconvert_exporter": "python",
   "pygments_lexer": "ipython3",
   "version": "3.10.14"
  }
 },
 "nbformat": 4,
 "nbformat_minor": 5
}
