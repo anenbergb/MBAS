{
 "cells": [
  {
   "cell_type": "code",
   "execution_count": 9,
   "id": "238c7eef",
   "metadata": {},
   "outputs": [],
   "source": [
    "import json\n",
    "import os\n",
    "import copy"
   ]
  },
  {
   "cell_type": "code",
   "execution_count": 10,
   "id": "b4f4fc9e",
   "metadata": {},
   "outputs": [],
   "source": [
    "base_config_fpath = \"/home/bryan/data/mbas_nnUNet_preprocessed/Dataset101_MBAS/MedNeXtPlans.json\"\n",
    "\n",
    "new_config_fpath = \"/home/bryan/data/mbas_nnUNet_preprocessed/Dataset101_MBAS/MedNeXtPlans_2024_07_21.json\""
   ]
  },
  {
   "cell_type": "code",
   "execution_count": 11,
   "id": "a2ed7c28",
   "metadata": {},
   "outputs": [],
   "source": [
    "with open(base_config_fpath, \"r\") as f:\n",
    "    base_config = json.load(f)"
   ]
  },
  {
   "cell_type": "code",
   "execution_count": 12,
   "id": "d4b35930",
   "metadata": {},
   "outputs": [],
   "source": [
    "base_model_config = base_config[\"configurations\"][\"3d_fullres\"]"
   ]
  },
  {
   "cell_type": "code",
   "execution_count": 13,
   "id": "12b75627",
   "metadata": {},
   "outputs": [],
   "source": [
    "def set_model_params(\n",
    "    base_config,\n",
    "    batch_size = 2,\n",
    "    patch_size = (16, 256, 256),\n",
    "    features_per_stage = (32, 64, 128, 256, 320, 320, 320),\n",
    "    stem_kernel_size = 1,\n",
    "    kernel_sizes = [\n",
    "        (1,3,3),\n",
    "        (1,3,3), \n",
    "        (3,3,3),\n",
    "        (3,3,3),\n",
    "        (3,3,3),\n",
    "        (3,3,3),\n",
    "        (3,3,3),\n",
    "    ],\n",
    "    strides = [\n",
    "        (1,1,1),\n",
    "        (1,2,2),\n",
    "        (1,2,2),\n",
    "        (2,2,2),\n",
    "        (2,2,2),\n",
    "        (2,2,2),\n",
    "        (2,2,2),\n",
    "    ],\n",
    "    n_blocks_per_stage = [3,4,6,6,6,6,6],\n",
    "    exp_ratio_per_stage = [2,3,4,4,4,4,4],\n",
    "    n_blocks_per_stage_decoder = None,\n",
    "    exp_ratio_per_stage_decoder = None,\n",
    "    norm_type = \"group\",\n",
    "    enable_affine_transform = False,\n",
    "    decode_stem_kernel_size=3,\n",
    "    override_down_kernel_size = True,\n",
    "    down_kernel_size = 1,\n",
    "):\n",
    "    config_copy = copy.deepcopy(base_config)\n",
    "    config_copy[\"batch_size\"] = batch_size\n",
    "    config_copy[\"patch_size\"] = patch_size\n",
    "    arch = config_copy[\"architecture\"][\"arch_kwargs\"]\n",
    "    \n",
    "    n_stages = len(features_per_stage)\n",
    "    assert len(kernel_sizes) == n_stages\n",
    "    assert len(strides) == n_stages\n",
    "    assert len(n_blocks_per_stage) == n_stages\n",
    "    assert len(exp_ratio_per_stage) == n_stages\n",
    "    if n_blocks_per_stage_decoder is None:\n",
    "        n_blocks_per_stage_decoder = n_blocks_per_stage[:-1][::-1] + [n_blocks_per_stage[0]]\n",
    "    assert len(n_blocks_per_stage_decoder) == n_stages\n",
    "    if exp_ratio_per_stage_decoder is None:\n",
    "        exp_ratio_per_stage_decoder = exp_ratio_per_stage[:-1][::-1] + [exp_ratio_per_stage[0]]\n",
    "    assert len(exp_ratio_per_stage_decoder) == n_stages\n",
    "    \n",
    "    arch[\"n_stages\"] = n_stages\n",
    "    arch[\"features_per_stage\"] = features_per_stage\n",
    "    arch[\"stem_kernel_size\"] = stem_kernel_size\n",
    "    arch[\"kernel_sizes\"] = kernel_sizes\n",
    "    arch[\"strides\"] = strides\n",
    "    arch[\"n_blocks_per_stage\"] = n_blocks_per_stage\n",
    "    arch[\"exp_ratio_per_stage\"] = exp_ratio_per_stage\n",
    "    arch[\"n_blocks_per_stage_decoder\"] = n_blocks_per_stage_decoder\n",
    "    arch[\"exp_ratio_per_stage_decoder\"] = exp_ratio_per_stage_decoder\n",
    "    arch[\"norm_type\"] = norm_type\n",
    "    arch[\"enable_affine_transform\"] = enable_affine_transform\n",
    "    arch[\"decode_stem_kernel_size\"] = decode_stem_kernel_size\n",
    "    arch[\"override_down_kernel_size\"] = override_down_kernel_size\n",
    "    arch[\"down_kernel_size\"] = down_kernel_size\n",
    "    return config_copy"
   ]
  },
  {
   "cell_type": "code",
   "execution_count": 34,
   "id": "d9da3572",
   "metadata": {},
   "outputs": [],
   "source": [
    "slim_128 = set_model_params(\n",
    "    base_model_config,\n",
    "    override_down_kernel_size = False,\n",
    "    features_per_stage = (32, 64, 128, 128, 128, 128, 128),\n",
    ")\n",
    "decoder_1_block = set_model_params(\n",
    "    base_model_config,\n",
    "    override_down_kernel_size = False,\n",
    "    n_blocks_per_stage_decoder = [1] * 7,\n",
    ")\n",
    "decoder_1_exp_ratio = set_model_params(\n",
    "    base_model_config,\n",
    "    override_down_kernel_size = False,\n",
    "    exp_ratio_per_stage_decoder = [1] * 7,\n",
    ")\n",
    "even_128 = set_model_params(\n",
    "    base_model_config,\n",
    "    override_down_kernel_size = False,\n",
    "    features_per_stage = (64, 64, 128, 128, 128, 128, 128),\n",
    ")"
   ]
  },
  {
   "cell_type": "code",
   "execution_count": 35,
   "id": "e75bf442",
   "metadata": {},
   "outputs": [],
   "source": [
    "new_config = copy.deepcopy(base_config)\n",
    "new_config[\"plans_name\"] = \"MedNeXtPlans_2024_07_21\"\n",
    "new_config[\"configurations\"][\"slim_128\"] = slim_128\n",
    "new_config[\"configurations\"][\"decoder_1_block\"] = decoder_1_block\n",
    "new_config[\"configurations\"][\"decoder_1_exp_ratio\"] = decoder_1_exp_ratio\n",
    "new_config[\"configurations\"][\"even_128\"] = even_128"
   ]
  },
  {
   "cell_type": "code",
   "execution_count": 36,
   "id": "1b7f30d2",
   "metadata": {},
   "outputs": [],
   "source": [
    "with open(new_config_fpath, \"w\") as f:\n",
    "    json.dump(new_config, f, indent=2)"
   ]
  },
  {
   "cell_type": "code",
   "execution_count": null,
   "id": "e08c56be",
   "metadata": {},
   "outputs": [],
   "source": []
  },
  {
   "cell_type": "code",
   "execution_count": null,
   "id": "0eb3736a",
   "metadata": {},
   "outputs": [],
   "source": []
  }
 ],
 "metadata": {
  "kernelspec": {
   "display_name": "Python [conda env:mbas]",
   "language": "python",
   "name": "conda-env-mbas-py"
  },
  "language_info": {
   "codemirror_mode": {
    "name": "ipython",
    "version": 3
   },
   "file_extension": ".py",
   "mimetype": "text/x-python",
   "name": "python",
   "nbconvert_exporter": "python",
   "pygments_lexer": "ipython3",
   "version": "3.10.14"
  }
 },
 "nbformat": 4,
 "nbformat_minor": 5
}
