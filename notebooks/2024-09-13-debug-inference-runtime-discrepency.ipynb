{
 "cells": [
  {
   "cell_type": "code",
   "execution_count": 4,
   "id": "89b72773",
   "metadata": {},
   "outputs": [],
   "source": [
    "import pickle\n",
    "\n",
    "from nnunetv2.imageio.simpleitk_reader_writer import SimpleITKIO\n",
    "\n",
    "import matplotlib.pyplot as plt\n",
    "%matplotlib inline\n",
    "\n",
    "import numpy as np\n",
    "import os\n",
    "\n",
    "import SimpleITK as sitk\n",
    "\n",
    "\n",
    "from nnunetv2.preprocessing.resampling.default_resampling import compute_new_shape"
   ]
  },
  {
   "cell_type": "code",
   "execution_count": 41,
   "id": "487449ac",
   "metadata": {
    "scrolled": true
   },
   "outputs": [],
   "source": [
    "stage_1_dir = \"/home/bryan/expr/mbas_nnUNet_results/Dataset104_MBAS/mbasTrainer__plans_2024_08_27__ResEncUNet_3d_lowres_for25_drop50_slim96\"\n",
    "stage_2_dir = \"/home/bryan/expr/mbas_nnUNet_results/Dataset101_MBAS/mbasTrainer__plans_2024_08_30__ResEncUNet_p20_256_dil2_batch_dice_cascade_ResEncUNet_08_27\"\n",
    "\n",
    "\n",
    "data1 = np.load(\"/home/bryan/expr/MBAS/final_submissions/output/test_debug0/trainer_MBAS_005_data.npy\")\n",
    "logits1 = np.load(\"/home/bryan/expr/MBAS/final_submissions/output/test_debug0/trainer_MBAS_005_logits1.npy\")\n",
    "logits1_not_comp = np.load(\"/home/bryan/expr/MBAS/final_submissions/output/test_debug0/trainer_not_comp_MBAS_005_logits1.npy\")\n",
    "logits1_not_comp2 = np.load(\"/home/bryan/expr/MBAS/final_submissions/output/test_debug0/trainer_not_comp2_MBAS_005_logits1.npy\")\n",
    "\n",
    "reader = SimpleITKIO()\n",
    "seg1 = reader.read_seg(os.path.join(stage_1_dir, \"crossval_results_folds_0/MBAS_005.nii.gz\"))\n",
    "val_original_seg1 = reader.read_seg(os.path.join(stage_1_dir, \"fold_0/validation_original/MBAS_005.nii.gz\"))\n",
    "val_try0_seg1 = reader.read_seg(os.path.join(stage_1_dir, \"fold_0/validation_try0/MBAS_005.nii.gz\"))\n",
    "# not compiled\n",
    "val_fp32_seg1 = reader.read_seg(os.path.join(stage_1_dir, \"fold_0/validation_fp32/MBAS_005.nii.gz\"))\n",
    "# compiled\n",
    "val_seg1 = reader.read_seg(os.path.join(stage_1_dir, \"fold_0/validation/MBAS_005.nii.gz\"))\n",
    "\n",
    "seg1_pp = reader.read_seg(os.path.join(stage_1_dir, \"crossval_results_folds_0/postprocessed/MBAS_005.nii.gz\"))\n",
    "seg2 = reader.read_seg(os.path.join(stage_2_dir, \"crossval_results_folds_0/MBAS_005.nii.gz\"))\n",
    "seg2_pp = reader.read_seg(os.path.join(stage_2_dir, \"crossval_results_folds_0/postprocessed/MBAS_005.nii.gz\"))\n",
    "\n",
    "output_dir = \"/home/bryan/expr/MBAS/final_submissions/output/test_debug7\"\n",
    "test_data1 = np.load(os.path.join(output_dir, \"data1_pp/MBAS_005_label.nii.gz.npy\"))\n",
    "test_logits1 = np.load(os.path.join(output_dir, \"logits1/MBAS_005_label.nii.gz.npy\"))\n",
    "\n",
    "test_seg1 = reader.read_seg(os.path.join(output_dir, \"seg1/MBAS_005_label.nii.gz\"))\n",
    "test_seg1_pp = reader.read_seg(os.path.join(output_dir, \"seg1_pp/MBAS_005_label.nii.gz\"))\n",
    "test_seg2 = reader.read_seg(os.path.join(output_dir, \"seg2/MBAS_005_label.nii.gz\"))\n",
    "test_seg2_pp = reader.read_seg(os.path.join(output_dir, \"MBAS_005_label.nii.gz\"))\n",
    "\n",
    "# test_logits1_debug4 = np.load(\"/home/bryan/expr/MBAS/final_submissions/output/test_debug4/logits1/MBAS_005_label.nii.gz.npy\")\n",
    "\n",
    "# the following 2 runs were done with torch.float32\n",
    "# test_logits1_debug5 = np.load(\"/home/bryan/expr/MBAS/final_submissions/output/test_debug5/logits1/MBAS_005_label.nii.gz.npy\")\n",
    "# test_logits1_debug6 = np.load(\"/home/bryan/expr/MBAS/final_submissions/output/test_debug6/logits1/MBAS_005_label.nii.gz.npy\")"
   ]
  },
  {
   "cell_type": "code",
   "execution_count": 42,
   "id": "cdf844e2",
   "metadata": {},
   "outputs": [],
   "source": [
    "def compare_segs(s1, s2, epsilon=1e-3):\n",
    "    print(f\"properties equal: {s1[1] == s2[1]}\")\n",
    "    array_equal = np.array_equal(s1[0], s2[0])\n",
    "    print(f\"array equal: {array_equal}\")\n",
    "    are_close = np.allclose(s1[0], s2[0], atol=epsilon)\n",
    "    print(f\"array allclose: {are_close}\")\n",
    "    \n",
    "    # Find the indices where the arrays differ beyond the specified tolerance\n",
    "    num_differences = np.sum(~np.isclose(s1[0], s2[0], atol=epsilon))\n",
    "    print(f\"array num differences: {num_differences}\")\n",
    "\n",
    "    different_indices = np.where(~np.isclose(s1[0], s2[0], atol=epsilon))\n",
    "    different_tuples = list(zip(*different_indices))[:10]\n",
    "#     num_differences = np.sum(s1[0] != s2[0])\n",
    "#     different_indices = np.where(s1[0] != s2[0])\n",
    "    print(f\"different_indices: {different_tuples}\")"
   ]
  },
  {
   "cell_type": "code",
   "execution_count": 43,
   "id": "a299f8a2",
   "metadata": {},
   "outputs": [
    {
     "name": "stdout",
     "output_type": "stream",
     "text": [
      "properties equal: True\n",
      "array equal: True\n",
      "array allclose: True\n",
      "array num differences: 0\n",
      "different_indices: []\n"
     ]
    }
   ],
   "source": [
    "compare_segs((data1, None), (test_data1, None))"
   ]
  },
  {
   "cell_type": "code",
   "execution_count": 27,
   "id": "674badc2",
   "metadata": {},
   "outputs": [
    {
     "name": "stdout",
     "output_type": "stream",
     "text": [
      "properties equal: True\n",
      "array equal: False\n",
      "array allclose: False\n",
      "array num differences: 776384\n",
      "different_indices: [(0, 0, 0, 301), (0, 0, 1, 151), (0, 0, 1, 246), (0, 0, 1, 285), (0, 0, 2, 122), (0, 0, 2, 189), (0, 0, 3, 146), (0, 0, 3, 251), (0, 0, 3, 278), (0, 0, 4, 275)]\n"
     ]
    }
   ],
   "source": [
    "compare_segs((test_logits1, None), (test_logits1_debug4, None))"
   ]
  },
  {
   "cell_type": "code",
   "execution_count": 28,
   "id": "0b78dbec",
   "metadata": {},
   "outputs": [
    {
     "name": "stdout",
     "output_type": "stream",
     "text": [
      "properties equal: True\n",
      "array equal: True\n",
      "array allclose: True\n",
      "array num differences: 0\n",
      "different_indices: []\n"
     ]
    }
   ],
   "source": [
    "compare_segs((test_logits1_debug5, None), (test_logits1_debug6, None))"
   ]
  },
  {
   "cell_type": "code",
   "execution_count": 44,
   "id": "38b0594b",
   "metadata": {},
   "outputs": [
    {
     "name": "stdout",
     "output_type": "stream",
     "text": [
      "properties equal: True\n",
      "array equal: False\n",
      "array allclose: False\n",
      "array num differences: 5\n",
      "different_indices: [(0, 9, 268, 343), (0, 20, 199, 233), (0, 20, 205, 231), (0, 22, 235, 294), (0, 25, 311, 356)]\n"
     ]
    }
   ],
   "source": [
    "compare_segs(seg1, val_seg1)"
   ]
  },
  {
   "cell_type": "code",
   "execution_count": 32,
   "id": "ba23f2c0",
   "metadata": {},
   "outputs": [
    {
     "name": "stdout",
     "output_type": "stream",
     "text": [
      "properties equal: True\n",
      "array equal: False\n",
      "array allclose: False\n",
      "array num differences: 5\n",
      "different_indices: [(0, 7, 276, 313), (0, 20, 164, 309), (0, 20, 199, 233), (0, 25, 311, 356), (0, 31, 241, 249)]\n"
     ]
    }
   ],
   "source": [
    "compare_segs(seg1, test_seg1)"
   ]
  },
  {
   "cell_type": "code",
   "execution_count": 45,
   "id": "b8991ad4",
   "metadata": {},
   "outputs": [
    {
     "name": "stdout",
     "output_type": "stream",
     "text": [
      "properties equal: True\n",
      "array equal: False\n",
      "array allclose: False\n",
      "array num differences: 1\n",
      "different_indices: [(0, 22, 235, 294)]\n"
     ]
    }
   ],
   "source": [
    "compare_segs(val_seg1, test_seg1)"
   ]
  },
  {
   "cell_type": "code",
   "execution_count": 40,
   "id": "e23e60bd",
   "metadata": {
    "scrolled": true
   },
   "outputs": [
    {
     "name": "stdout",
     "output_type": "stream",
     "text": [
      "properties equal: True\n",
      "array equal: True\n",
      "array allclose: True\n",
      "array num differences: 0\n",
      "different_indices: []\n"
     ]
    }
   ],
   "source": [
    "# this is also not compiled\n",
    "compare_segs(val_fp32_seg1, test_seg1)"
   ]
  },
  {
   "cell_type": "code",
   "execution_count": null,
   "id": "19999af1",
   "metadata": {},
   "outputs": [],
   "source": [
    "compare_segs(seg1_pp, test_seg1_pp)"
   ]
  },
  {
   "cell_type": "code",
   "execution_count": null,
   "id": "449ee5e6",
   "metadata": {},
   "outputs": [],
   "source": [
    "compare_segs(seg2, test_seg2)"
   ]
  },
  {
   "cell_type": "code",
   "execution_count": null,
   "id": "717057d0",
   "metadata": {},
   "outputs": [],
   "source": [
    "compare_segs(seg2_pp, test_seg2_pp)"
   ]
  },
  {
   "cell_type": "code",
   "execution_count": null,
   "id": "5a91099e",
   "metadata": {},
   "outputs": [],
   "source": [
    "plt.imshow(test_seg_pp[0,20], cmap=\"gray\")"
   ]
  },
  {
   "cell_type": "code",
   "execution_count": 18,
   "id": "a37eef65",
   "metadata": {},
   "outputs": [
    {
     "data": {
      "text/plain": [
       "array([ 40, 511, 498])"
      ]
     },
     "execution_count": 18,
     "metadata": {},
     "output_type": "execute_result"
    }
   ],
   "source": [
    "compute_new_shape((44, 638, 638), (2.5, 0.625, 0.625), (2.75, 0.78, 0.8))"
   ]
  }
 ],
 "metadata": {
  "kernelspec": {
   "display_name": "Python [conda env:mbas]",
   "language": "python",
   "name": "conda-env-mbas-py"
  },
  "language_info": {
   "codemirror_mode": {
    "name": "ipython",
    "version": 3
   },
   "file_extension": ".py",
   "mimetype": "text/x-python",
   "name": "python",
   "nbconvert_exporter": "python",
   "pygments_lexer": "ipython3",
   "version": "3.10.14"
  }
 },
 "nbformat": 4,
 "nbformat_minor": 5
}
