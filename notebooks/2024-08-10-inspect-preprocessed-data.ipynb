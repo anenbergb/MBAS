{
 "cells": [
  {
   "cell_type": "code",
   "execution_count": 1,
   "id": "b38a2849",
   "metadata": {},
   "outputs": [],
   "source": [
    "import numpy as np\n",
    "import pickle\n",
    "import nibabel as nib\n",
    "import os\n",
    "\n",
    "from PIL import Image\n",
    "import matplotlib.pyplot as plt\n",
    "%matplotlib inline\n",
    "\n",
    "import torch\n"
   ]
  },
  {
   "cell_type": "code",
   "execution_count": 5,
   "id": "34e50356",
   "metadata": {},
   "outputs": [],
   "source": [
    "preprocessed_root = \"/home/bryan/data/mbas_nnUNet_preprocessed/Dataset104_MBAS\""
   ]
  },
  {
   "cell_type": "code",
   "execution_count": 14,
   "id": "4a5d5108",
   "metadata": {},
   "outputs": [],
   "source": [
    "spacing_name = \"3d_lowres_1.25\"\n",
    "subject_id = \"MBAS_001\"\n",
    "preprocessed_folder = os.path.join(preprocessed_root, spacing_name)\n",
    "\n",
    "# npy = np.load(os.path.join(preprocessed_folder, f\"{subject_id}.npy\"))\n",
    "npz = np.load(os.path.join(preprocessed_folder, f\"{subject_id}.npz\"))\n",
    "with open(os.path.join(preprocessed_folder, f\"{subject_id}.pkl\"), \"rb\") as f:\n",
    "    pkl = pickle.load(f)\n",
    "# seg_npy = np.load(os.path.join(preprocessed_folder, f\"{subject_id}_seg.npy\"))\n",
    "\n"
   ]
  },
  {
   "cell_type": "code",
   "execution_count": 15,
   "id": "562594de",
   "metadata": {},
   "outputs": [
    {
     "name": "stdout",
     "output_type": "stream",
     "text": [
      "cropped npz[data] (1, 44, 319, 319) float32\n",
      "\trange: [-0.6321948766708374, 9.467267036437988]\n",
      "cropped npz[seg] (1, 44, 319, 319) int8\n",
      "\t(array([-1,  0,  1], dtype=int8), array([ 153997, 4248021,   75466]))\n"
     ]
    }
   ],
   "source": [
    "def print_tensor(tensor, name, force_unique=False):\n",
    "    print(name, tensor.shape, tensor.dtype)\n",
    "    if tensor.dtype == np.float32:\n",
    "        print(f\"\\trange: [{tensor.min()}, {tensor.max()}]\")\n",
    "    elif tensor.dtype in (np.int8, np.uint8) or force_unique:\n",
    "        print(f\"\\t{np.unique(tensor.flatten(), return_counts=True)}\")\n",
    "        \n",
    "\n",
    "print_tensor(npz[\"data\"], \"cropped npz[data]\")\n",
    "print_tensor(npz[\"seg\"], \"cropped npz[seg]\")"
   ]
  },
  {
   "cell_type": "code",
   "execution_count": 10,
   "id": "acd4500a",
   "metadata": {},
   "outputs": [
    {
     "data": {
      "text/plain": [
       "{'sitk_stuff': {'spacing': (0.625, 0.625, 2.5),\n",
       "  'origin': (-190.72938537597656, -180.62953186035156, -26.63135528564453),\n",
       "  'direction': (1.0, 0.0, 0.0, 0.0, 1.0, 0.0, 0.0, 0.0, 1.0)},\n",
       " 'spacing': [2.5, 0.625, 0.625],\n",
       " 'shape_before_cropping': (44, 640, 640),\n",
       " 'bbox_used_for_cropping': [[0, 44], [1, 639], [1, 639]],\n",
       " 'shape_after_cropping_and_before_resampling': (44, 638, 638),\n",
       " 'class_locations': {1: array([[  0,   7, 205, 187],\n",
       "         [  0,  23, 198, 173],\n",
       "         [  0,  14, 196, 173],\n",
       "         ...,\n",
       "         [  0,  35, 179, 182],\n",
       "         [  0,  11, 169, 218],\n",
       "         [  0,  13, 144, 193]])}}"
      ]
     },
     "execution_count": 10,
     "metadata": {},
     "output_type": "execute_result"
    }
   ],
   "source": [
    "pkl"
   ]
  },
  {
   "cell_type": "code",
   "execution_count": 13,
   "id": "0327bab3",
   "metadata": {},
   "outputs": [
    {
     "name": "stdout",
     "output_type": "stream",
     "text": [
      "cropped npz[data] (1, 44, 266, 266) float32\n",
      "\trange: [-0.6321948766708374, 9.467267036437988]\n",
      "cropped npz[seg] (1, 44, 266, 266) int8\n",
      "\t(array([-1,  0,  1], dtype=int8), array([ 117775, 2943796,   51693]))\n"
     ]
    },
    {
     "data": {
      "text/plain": [
       "{'sitk_stuff': {'spacing': (0.625, 0.625, 2.5),\n",
       "  'origin': (-190.72938537597656, -180.62953186035156, -26.63135528564453),\n",
       "  'direction': (1.0, 0.0, 0.0, 0.0, 1.0, 0.0, 0.0, 0.0, 1.0)},\n",
       " 'spacing': [2.5, 0.625, 0.625],\n",
       " 'shape_before_cropping': (44, 640, 640),\n",
       " 'bbox_used_for_cropping': [[0, 44], [1, 639], [1, 639]],\n",
       " 'shape_after_cropping_and_before_resampling': (44, 638, 638),\n",
       " 'class_locations': {1: array([[  0,  29, 135, 133],\n",
       "         [  0,  12, 102, 129],\n",
       "         [  0,  16, 141, 155],\n",
       "         ...,\n",
       "         [  0,  24, 102, 111],\n",
       "         [  0,  26, 137, 151],\n",
       "         [  0,  25, 134, 114]])}}"
      ]
     },
     "execution_count": 13,
     "metadata": {},
     "output_type": "execute_result"
    }
   ],
   "source": [
    "print_tensor(npz[\"data\"], \"cropped npz[data]\")\n",
    "print_tensor(npz[\"seg\"], \"cropped npz[seg]\")\n",
    "pkl"
   ]
  },
  {
   "cell_type": "code",
   "execution_count": null,
   "id": "ef025428",
   "metadata": {},
   "outputs": [],
   "source": []
  }
 ],
 "metadata": {
  "kernelspec": {
   "display_name": "Python [conda env:mbas]",
   "language": "python",
   "name": "conda-env-mbas-py"
  },
  "language_info": {
   "codemirror_mode": {
    "name": "ipython",
    "version": 3
   },
   "file_extension": ".py",
   "mimetype": "text/x-python",
   "name": "python",
   "nbconvert_exporter": "python",
   "pygments_lexer": "ipython3",
   "version": "3.10.14"
  }
 },
 "nbformat": 4,
 "nbformat_minor": 5
}
