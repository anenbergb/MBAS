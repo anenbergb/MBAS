{
 "cells": [
  {
   "cell_type": "code",
   "execution_count": 9,
   "id": "44247bd4",
   "metadata": {},
   "outputs": [],
   "source": [
    "import numpy as np\n",
    "from nnunetv2.preprocessing.resampling.default_resampling import compute_new_shape"
   ]
  },
  {
   "cell_type": "code",
   "execution_count": 12,
   "id": "138e2623",
   "metadata": {},
   "outputs": [],
   "source": [
    "old_shape = np.array([44, 638, 638])\n",
    "old_shape2 = np.array([44,574,574])\n",
    "old_spacing = np.array([2.5, 0.625, 0.625])"
   ]
  },
  {
   "cell_type": "code",
   "execution_count": 16,
   "id": "d08abd25",
   "metadata": {},
   "outputs": [
    {
     "data": {
      "text/plain": [
       "array([ 44, 410, 410])"
      ]
     },
     "execution_count": 16,
     "metadata": {},
     "output_type": "execute_result"
    }
   ],
   "source": [
    "compute_new_shape(old_shape, old_spacing, np.array([2.5, 0.9737296353754783, 0.9737296353754783]))"
   ]
  },
  {
   "cell_type": "code",
   "execution_count": 17,
   "id": "752884fe",
   "metadata": {},
   "outputs": [
    {
     "data": {
      "text/plain": [
       "array([ 44, 399, 399])"
      ]
     },
     "execution_count": 17,
     "metadata": {},
     "output_type": "execute_result"
    }
   ],
   "source": [
    "compute_new_shape(old_shape, old_spacing, np.array([2.5, 1.0, 1.0]))"
   ]
  },
  {
   "cell_type": "code",
   "execution_count": 18,
   "id": "01b0c54e",
   "metadata": {},
   "outputs": [
    {
     "data": {
      "text/plain": [
       "array([ 44, 319, 319])"
      ]
     },
     "execution_count": 18,
     "metadata": {},
     "output_type": "execute_result"
    }
   ],
   "source": [
    "compute_new_shape(old_shape, old_spacing, np.array([2.5, 1.25, 1.25]))"
   ]
  },
  {
   "cell_type": "code",
   "execution_count": 19,
   "id": "ff13cfb4",
   "metadata": {},
   "outputs": [
    {
     "data": {
      "text/plain": [
       "array([ 44, 266, 266])"
      ]
     },
     "execution_count": 19,
     "metadata": {},
     "output_type": "execute_result"
    }
   ],
   "source": [
    "compute_new_shape(old_shape, old_spacing, np.array([2.5, 1.5, 1.5]))"
   ]
  },
  {
   "cell_type": "code",
   "execution_count": null,
   "id": "c82b803d",
   "metadata": {},
   "outputs": [],
   "source": []
  }
 ],
 "metadata": {
  "kernelspec": {
   "display_name": "Python [conda env:mbas]",
   "language": "python",
   "name": "conda-env-mbas-py"
  },
  "language_info": {
   "codemirror_mode": {
    "name": "ipython",
    "version": 3
   },
   "file_extension": ".py",
   "mimetype": "text/x-python",
   "name": "python",
   "nbconvert_exporter": "python",
   "pygments_lexer": "ipython3",
   "version": "3.10.14"
  }
 },
 "nbformat": 4,
 "nbformat_minor": 5
}
