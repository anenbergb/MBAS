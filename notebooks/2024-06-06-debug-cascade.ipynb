{
 "cells": [
  {
   "cell_type": "code",
   "execution_count": 1,
   "id": "6ea5b327",
   "metadata": {},
   "outputs": [],
   "source": [
    "import numpy as np\n",
    "import os"
   ]
  },
  {
   "cell_type": "code",
   "execution_count": 2,
   "id": "b97170ba",
   "metadata": {},
   "outputs": [],
   "source": [
    "dest_dir = \"/home/bryan/expr/nnUNet_results/Dataset101_MBAS/nnUNetTrainer_250epochs__nnUNetResEncUNetMPlans__3d_fullres/predicted_next_stage/3d_cascade_fullres_from_only_atrium\""
   ]
  },
  {
   "cell_type": "code",
   "execution_count": 3,
   "id": "7e8c663d",
   "metadata": {
    "collapsed": true
   },
   "outputs": [
    {
     "data": {
      "text/plain": [
       "['MBAS_060.npz',\n",
       " 'MBAS_014.npz',\n",
       " 'MBAS_036.npz',\n",
       " 'MBAS_064.npz',\n",
       " 'MBAS_052.npz',\n",
       " 'MBAS_044.npz',\n",
       " 'MBAS_027.npz',\n",
       " 'MBAS_041.npz',\n",
       " 'MBAS_070.npz',\n",
       " 'MBAS_058.npz',\n",
       " 'MBAS_001.npz',\n",
       " 'MBAS_024.npz',\n",
       " 'MBAS_065.npz',\n",
       " 'MBAS_013.npz',\n",
       " 'MBAS_037.npz',\n",
       " 'MBAS_023.npz',\n",
       " 'MBAS_033.npz',\n",
       " 'MBAS_018.npz',\n",
       " 'MBAS_068.npz',\n",
       " 'MBAS_012.npz',\n",
       " 'MBAS_040.npz',\n",
       " 'MBAS_017.npz',\n",
       " 'MBAS_004.npz',\n",
       " 'MBAS_026.npz',\n",
       " 'MBAS_010.npz',\n",
       " 'MBAS_015.npz',\n",
       " 'MBAS_059.npz',\n",
       " 'MBAS_007.npz',\n",
       " 'MBAS_028.npz',\n",
       " 'MBAS_025.npz',\n",
       " 'MBAS_042.npz',\n",
       " 'MBAS_066.npz',\n",
       " 'MBAS_063.npz',\n",
       " 'MBAS_047.npz',\n",
       " 'MBAS_056.npz',\n",
       " 'MBAS_069.npz',\n",
       " 'MBAS_062.npz',\n",
       " 'MBAS_051.npz',\n",
       " 'MBAS_043.npz',\n",
       " 'MBAS_021.npz',\n",
       " 'MBAS_005.npz',\n",
       " 'MBAS_022.npz',\n",
       " 'MBAS_009.npz',\n",
       " 'MBAS_020.npz',\n",
       " 'MBAS_039.npz',\n",
       " 'MBAS_054.npz',\n",
       " 'MBAS_006.npz',\n",
       " 'MBAS_061.npz',\n",
       " 'MBAS_057.npz',\n",
       " 'MBAS_019.npz',\n",
       " 'MBAS_067.npz',\n",
       " 'MBAS_032.npz',\n",
       " 'MBAS_038.npz',\n",
       " 'MBAS_050.npz',\n",
       " 'MBAS_008.npz',\n",
       " 'MBAS_003.npz',\n",
       " 'MBAS_049.npz',\n",
       " 'MBAS_055.npz',\n",
       " 'MBAS_035.npz',\n",
       " 'MBAS_045.npz',\n",
       " 'MBAS_029.npz',\n",
       " 'MBAS_046.npz',\n",
       " 'MBAS_011.npz',\n",
       " 'MBAS_048.npz',\n",
       " 'MBAS_016.npz',\n",
       " 'MBAS_053.npz',\n",
       " 'MBAS_031.npz',\n",
       " 'MBAS_030.npz',\n",
       " 'MBAS_034.npz',\n",
       " 'MBAS_002.npz']"
      ]
     },
     "execution_count": 3,
     "metadata": {},
     "output_type": "execute_result"
    }
   ],
   "source": [
    "os.listdir(dest_dir)"
   ]
  },
  {
   "cell_type": "code",
   "execution_count": 10,
   "id": "fb75465c",
   "metadata": {},
   "outputs": [],
   "source": [
    "npz = np.load(os.path.join(dest_dir, \"MBAS_060.npz\"))\n",
    "\n",
    "npz = np.load(\"/home/bryan/expr/nnUNet_results/Dataset101_MBAS/nnUNetTrainer_250epochs__nnUNetPlans__3d_fullres/predicted_next_stage/3d_cascade_fullres_from_only_atrium/MBAS_060.npz\")"
   ]
  },
  {
   "cell_type": "code",
   "execution_count": 20,
   "id": "2c0906a1",
   "metadata": {},
   "outputs": [],
   "source": [
    "npz = np.load(\"/home/bryan/expr/nnUNet_results/Dataset101_MBAS/nnUNetTrainer_250epochs__nnUNetResEncUNetMPlans__3d_fullres/predicted_next_stage/3d_cascade_fullres_from_only_atrium/MBAS_001.npz\")"
   ]
  },
  {
   "cell_type": "code",
   "execution_count": 21,
   "id": "1508253b",
   "metadata": {},
   "outputs": [
    {
     "data": {
      "text/plain": [
       "(44, 638, 638)"
      ]
     },
     "execution_count": 21,
     "metadata": {},
     "output_type": "execute_result"
    }
   ],
   "source": [
    "npz[\"seg\"].shape"
   ]
  },
  {
   "cell_type": "code",
   "execution_count": 22,
   "id": "99be6e38",
   "metadata": {},
   "outputs": [],
   "source": [
    "npz = np.load(\"/home/bryan/expr/nnUNet_results/Dataset103_MBAS/nnUNetTrainer_250epochs__nnUNetResEncUNetMPlans__3d_fullres/predicted_next_stage/3d_cascade_fullres_from_only_atrium/MBAS_001.npz\")\n",
    "\n",
    "\n"
   ]
  },
  {
   "cell_type": "code",
   "execution_count": 23,
   "id": "9890a8ac",
   "metadata": {},
   "outputs": [
    {
     "data": {
      "text/plain": [
       "(44, 638, 638)"
      ]
     },
     "execution_count": 23,
     "metadata": {},
     "output_type": "execute_result"
    }
   ],
   "source": [
    "npz[\"seg\"].shape"
   ]
  },
  {
   "cell_type": "code",
   "execution_count": null,
   "id": "25dda76b",
   "metadata": {},
   "outputs": [],
   "source": []
  }
 ],
 "metadata": {
  "kernelspec": {
   "display_name": "Python [conda env:mbas]",
   "language": "python",
   "name": "conda-env-mbas-py"
  },
  "language_info": {
   "codemirror_mode": {
    "name": "ipython",
    "version": 3
   },
   "file_extension": ".py",
   "mimetype": "text/x-python",
   "name": "python",
   "nbconvert_exporter": "python",
   "pygments_lexer": "ipython3",
   "version": "3.10.14"
  }
 },
 "nbformat": 4,
 "nbformat_minor": 5
}
