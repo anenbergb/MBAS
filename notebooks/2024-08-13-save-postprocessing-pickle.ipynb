{
 "cells": [
  {
   "cell_type": "code",
   "execution_count": 11,
   "id": "8395d84f",
   "metadata": {},
   "outputs": [],
   "source": [
    "import argparse\n",
    "import copy\n",
    "import os\n",
    "import sys\n",
    "from typing import List\n",
    "\n",
    "from loguru import logger\n",
    "from tqdm import tqdm\n",
    "import numpy as np\n",
    "import pandas as pd\n",
    "import torchio as tio\n",
    "from tabulate import tabulate\n",
    "import nibabel\n",
    "\n",
    "import pickle"
   ]
  },
  {
   "cell_type": "code",
   "execution_count": 10,
   "id": "c37c16d6",
   "metadata": {},
   "outputs": [
    {
     "name": "stdout",
     "output_type": "stream",
     "text": [
      "cross_val/postprocessed (576, 576, 44) uint8\n",
      "\t(array([0, 1], dtype=uint8), array([14295819,   302325]))\n"
     ]
    }
   ],
   "source": [
    "fpath = \"/home/bryan/expr/mbas_nnUNet_results/Dataset104_MBAS/mbasTrainer__nnUNetResEncUNetMPlans_2024_08_10__3d_lowres/crossval_results_folds_0/postprocessed/MBAS_005.nii.gz\"\n",
    "\n",
    "prediction = (\n",
    "            nibabel.load(fpath).get_fdata().astype(np.uint8)\n",
    "        )\n",
    "\n",
    "def print_tensor(tensor, name, force_unique=False):\n",
    "    print(name, tensor.shape, tensor.dtype)\n",
    "    if tensor.dtype == np.float32:\n",
    "        print(f\"\\trange: [{tensor.min()}, {tensor.max()}]\")\n",
    "    elif tensor.dtype in (np.int8, np.uint8) or force_unique:\n",
    "        print(f\"\\t{np.unique(tensor.flatten(), return_counts=True)}\")\n",
    "        \n",
    "\n",
    "print_tensor(prediction, \"cross_val/postprocessed\")\n"
   ]
  },
  {
   "cell_type": "code",
   "execution_count": 13,
   "id": "05040de6",
   "metadata": {},
   "outputs": [
    {
     "name": "stdout",
     "output_type": "stream",
     "text": [
      "nnUNet_raw is not defined and nnU-Net can only be used on data for which preprocessed files are already present on your system. nnU-Net cannot be used for experiment planning and preprocessing like this. If this is not intended, please read documentation/setting_up_paths.md for information on how to set this up properly.\n",
      "nnUNet_preprocessed is not defined and nnU-Net can not be used for preprocessing or training. If this is not intended, please read documentation/setting_up_paths.md for information on how to set this up.\n",
      "nnUNet_results is not defined and nnU-Net cannot be used for training or inference. If this is not intended behavior, please read documentation/setting_up_paths.md for information on how to set this up.\n"
     ]
    }
   ],
   "source": [
    "with open(\"/home/bryan/expr/mbas_nnUNet_results/Dataset104_MBAS/mbasTrainer__nnUNetResEncUNetMPlans_2024_08_10__3d_lowres/crossval_results_folds_0/postprocessing.pkl\", \"rb\") as f:\n",
    "    postprocessing_pkl = pickle.load(f)"
   ]
  },
  {
   "cell_type": "code",
   "execution_count": 23,
   "id": "a864bcf8",
   "metadata": {},
   "outputs": [],
   "source": [
    "with open(\"/home/bryan/expr/mbas_nnUNet_results/Dataset104_MBAS/mbasTrainer__nnUNetResEncUNetMPlans_2024_08_10__3d_lowres/crossval_results_folds_0_1_2_3_4/postprocessing.pkl\", \"rb\") as f:\n",
    "    postprocessing_pkl_01234 = pickle.load(f)"
   ]
  },
  {
   "cell_type": "code",
   "execution_count": 17,
   "id": "99f10ca1",
   "metadata": {},
   "outputs": [
    {
     "data": {
      "text/plain": [
       "2"
      ]
     },
     "execution_count": 17,
     "metadata": {},
     "output_type": "execute_result"
    }
   ],
   "source": [
    "len(postprocessing_pkl)"
   ]
  },
  {
   "cell_type": "code",
   "execution_count": 18,
   "id": "f4d42d6f",
   "metadata": {},
   "outputs": [
    {
     "data": {
      "text/plain": [
       "[<function nnunetv2.postprocessing.remove_connected_components.remove_all_but_largest_component_from_segmentation(segmentation: numpy.ndarray, labels_or_regions: Union[int, Tuple[int, ...], List[Union[int, Tuple[int, ...]]]], background_label: int = 0) -> numpy.ndarray>]"
      ]
     },
     "execution_count": 18,
     "metadata": {},
     "output_type": "execute_result"
    }
   ],
   "source": [
    "postprocessing_pkl[0]"
   ]
  },
  {
   "cell_type": "code",
   "execution_count": 19,
   "id": "d2253b70",
   "metadata": {},
   "outputs": [
    {
     "data": {
      "text/plain": [
       "<function nnunetv2.postprocessing.remove_connected_components.remove_all_but_largest_component_from_segmentation(segmentation: numpy.ndarray, labels_or_regions: Union[int, Tuple[int, ...], List[Union[int, Tuple[int, ...]]]], background_label: int = 0) -> numpy.ndarray>"
      ]
     },
     "execution_count": 19,
     "metadata": {},
     "output_type": "execute_result"
    }
   ],
   "source": [
    "postprocessing_pkl[0][0]"
   ]
  },
  {
   "cell_type": "code",
   "execution_count": 22,
   "id": "c2539fba",
   "metadata": {},
   "outputs": [
    {
     "data": {
      "text/plain": [
       "[<function nnunetv2.postprocessing.remove_connected_components.remove_all_but_largest_component_from_segmentation(segmentation: numpy.ndarray, labels_or_regions: Union[int, Tuple[int, ...], List[Union[int, Tuple[int, ...]]]], background_label: int = 0) -> numpy.ndarray>]"
      ]
     },
     "execution_count": 22,
     "metadata": {},
     "output_type": "execute_result"
    }
   ],
   "source": [
    "postprocessing_pkl[0]"
   ]
  },
  {
   "cell_type": "code",
   "execution_count": 20,
   "id": "08c3ae6c",
   "metadata": {},
   "outputs": [
    {
     "data": {
      "text/plain": [
       "[{'labels_or_regions': [1]}]"
      ]
     },
     "execution_count": 20,
     "metadata": {},
     "output_type": "execute_result"
    }
   ],
   "source": [
    "postprocessing_pkl[1]"
   ]
  },
  {
   "cell_type": "code",
   "execution_count": null,
   "id": "5e1cfa36",
   "metadata": {},
   "outputs": [],
   "source": [
    "postprocessing_pkl[0]"
   ]
  },
  {
   "cell_type": "code",
   "execution_count": 25,
   "id": "e4874b11",
   "metadata": {},
   "outputs": [
    {
     "data": {
      "text/plain": [
       "True"
      ]
     },
     "execution_count": 25,
     "metadata": {},
     "output_type": "execute_result"
    }
   ],
   "source": [
    "postprocessing_pkl_01234 == postprocessing_pkl"
   ]
  },
  {
   "cell_type": "code",
   "execution_count": 30,
   "id": "362d0736",
   "metadata": {},
   "outputs": [
    {
     "name": "stdout",
     "output_type": "stream",
     "text": [
      "([<function remove_all_but_largest_component_from_segmentation at 0x79b95a52c940>, <function remove_all_but_largest_component_from_segmentation at 0x79b95a52c940>], [{'labels_or_regions': [1, 2, 3]}, {'labels_or_regions': 1}])\n"
     ]
    }
   ],
   "source": [
    "pickle_path = \"/home/bryan/expr/mbas_nnUNet_results/Dataset101_MBAS/mbasTrainer__nnUNetResEncUNetMPlans_2024_08_10__fullres_M_16_256_nblocks3_GT/crossval_results_folds_0/postprocessing.pkl\"\n",
    "pickle_path = \"/home/bryan/expr/mbas_nnUNet_results/Dataset101_MBAS/mbasTrainer__nnUNetResEncUNetMPlans_2024_08_10__fullres_M_16_256_GT/crossval_results_folds_0/postprocessing.pkl\"\n",
    "\n",
    "\n",
    "pickle_path = \"/home/bryan/expr/mbas_nnUNet_results/Dataset101_MBAS/nnUNetTrainer_MedNeXt__MedNeXtPlans_2024_07_27__slim_128_oversample_05/crossval_results_folds_0/postprocessing.pkl\"\n",
    "with open(pickle_path, \"rb\") as f:\n",
    "    dataset101_pkl = pickle.load(f)\n",
    "\n",
    "print(dataset101_pkl)"
   ]
  },
  {
   "cell_type": "code",
   "execution_count": 34,
   "id": "72cc395c",
   "metadata": {},
   "outputs": [
    {
     "data": {
      "text/plain": [
       "[<function nnunetv2.postprocessing.remove_connected_components.remove_all_but_largest_component_from_segmentation(segmentation: numpy.ndarray, labels_or_regions: Union[int, Tuple[int, ...], List[Union[int, Tuple[int, ...]]]], background_label: int = 0) -> numpy.ndarray>,\n",
       " <function nnunetv2.postprocessing.remove_connected_components.remove_all_but_largest_component_from_segmentation(segmentation: numpy.ndarray, labels_or_regions: Union[int, Tuple[int, ...], List[Union[int, Tuple[int, ...]]]], background_label: int = 0) -> numpy.ndarray>]"
      ]
     },
     "execution_count": 34,
     "metadata": {},
     "output_type": "execute_result"
    }
   ],
   "source": [
    "dataset101_pkl[0]"
   ]
  },
  {
   "cell_type": "code",
   "execution_count": null,
   "id": "45bb6e74",
   "metadata": {},
   "outputs": [],
   "source": []
  }
 ],
 "metadata": {
  "kernelspec": {
   "display_name": "Python [conda env:mbas]",
   "language": "python",
   "name": "conda-env-mbas-py"
  },
  "language_info": {
   "codemirror_mode": {
    "name": "ipython",
    "version": 3
   },
   "file_extension": ".py",
   "mimetype": "text/x-python",
   "name": "python",
   "nbconvert_exporter": "python",
   "pygments_lexer": "ipython3",
   "version": "3.10.14"
  }
 },
 "nbformat": 4,
 "nbformat_minor": 5
}
