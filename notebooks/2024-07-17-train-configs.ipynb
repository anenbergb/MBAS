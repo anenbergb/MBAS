{
 "cells": [
  {
   "cell_type": "code",
   "execution_count": 8,
   "id": "238c7eef",
   "metadata": {},
   "outputs": [],
   "source": [
    "import json\n",
    "import os\n",
    "import copy"
   ]
  },
  {
   "cell_type": "code",
   "execution_count": 3,
   "id": "b4f4fc9e",
   "metadata": {},
   "outputs": [],
   "source": [
    "base_config_fpath = \"/home/bryan/data/mbas_nnUNet_preprocessed/Dataset101_MBAS/MedNeXtPlans.json\"\n",
    "\n",
    "new_config_fpath = \"/home/bryan/data/mbas_nnUNet_preprocessed/Dataset101_MBAS/MedNeXtPlans_2024_07_17.json\""
   ]
  },
  {
   "cell_type": "code",
   "execution_count": 4,
   "id": "a2ed7c28",
   "metadata": {},
   "outputs": [],
   "source": [
    "with open(base_config_fpath, \"r\") as f:\n",
    "    base_config = json.load(f)"
   ]
  },
  {
   "cell_type": "code",
   "execution_count": 5,
   "id": "d4b35930",
   "metadata": {},
   "outputs": [],
   "source": [
    "base_model_config = base_config[\"configurations\"][\"3d_fullres\"]"
   ]
  },
  {
   "cell_type": "code",
   "execution_count": 28,
   "id": "12b75627",
   "metadata": {},
   "outputs": [],
   "source": [
    "def set_model_params(\n",
    "    base_config,\n",
    "    batch_size = 2,\n",
    "    patch_size = (16, 256, 256),\n",
    "    features_per_stage = (32, 64, 128, 256, 320, 320, 320),\n",
    "    stem_kernel_size = 1,\n",
    "    kernel_sizes = [\n",
    "        (1,3,3),\n",
    "        (1,3,3), \n",
    "        (3,3,3),\n",
    "        (3,3,3),\n",
    "        (3,3,3),\n",
    "        (3,3,3),\n",
    "        (3,3,3),\n",
    "    ],\n",
    "    strides = [\n",
    "        (1,1,1),\n",
    "        (1,2,2),\n",
    "        (1,2,2),\n",
    "        (2,2,2),\n",
    "        (2,2,2),\n",
    "        (2,2,2),\n",
    "        (2,2,2),\n",
    "    ],\n",
    "    n_blocks_per_stage = [3,4,6,6,6,6,6],\n",
    "    exp_ratio_per_stage = [2,3,4,4,4,4,4],\n",
    "    n_blocks_per_stage_decoder = None,\n",
    "    exp_ratio_per_stage_decoder = None,\n",
    "    norm_type = \"group\",\n",
    "    enable_affine_transform = False,\n",
    "    decode_stem_kernel_size=3,\n",
    "):\n",
    "    config_copy = copy.deepcopy(base_config)\n",
    "    config_copy[\"batch_size\"] = batch_size\n",
    "    config_copy[\"patch_size\"] = patch_size\n",
    "    arch = config_copy[\"architecture\"][\"arch_kwargs\"]\n",
    "    \n",
    "    n_stages = len(features_per_stage)\n",
    "    assert len(kernel_sizes) == n_stages\n",
    "    assert len(strides) == n_stages\n",
    "    assert len(n_blocks_per_stage) == n_stages\n",
    "    assert len(exp_ratio_per_stage) == n_stages\n",
    "    if n_blocks_per_stage_decoder is None:\n",
    "        n_blocks_per_stage_decoder = n_blocks_per_stage[::-1]\n",
    "    assert len(n_blocks_per_stage_decoder) == n_stages\n",
    "    if exp_ratio_per_stage_decoder is None:\n",
    "        exp_ratio_per_stage_decoder = exp_ratio_per_stage[::-1]\n",
    "    assert len(exp_ratio_per_stage_decoder) == n_stages\n",
    "    \n",
    "    arch[\"n_stages\"] = n_stages\n",
    "    arch[\"features_per_stage\"] = features_per_stage\n",
    "    arch[\"stem_kernel_size\"] = stem_kernel_size\n",
    "    arch[\"kernel_sizes\"] = kernel_sizes\n",
    "    arch[\"strides\"] = strides\n",
    "    arch[\"n_blocks_per_stage\"] = n_blocks_per_stage\n",
    "    arch[\"exp_ratio_per_stage\"] = exp_ratio_per_stage\n",
    "    arch[\"n_blocks_per_stage_decoder\"] = n_blocks_per_stage_decoder\n",
    "    arch[\"exp_ratio_per_stage_decoder\"] = exp_ratio_per_stage_decoder\n",
    "    arch[\"norm_type\"] = norm_type\n",
    "    arch[\"enable_affine_transform\"] = enable_affine_transform\n",
    "    arch[\"decode_stem_kernel_size\"] = decode_stem_kernel_size\n",
    "    return config_copy"
   ]
  },
  {
   "cell_type": "code",
   "execution_count": 29,
   "id": "53f1ee86",
   "metadata": {
    "scrolled": true
   },
   "outputs": [],
   "source": [
    "baseline_model_config = set_model_params(base_model_config)"
   ]
  },
  {
   "cell_type": "code",
   "execution_count": 30,
   "id": "32a93129",
   "metadata": {},
   "outputs": [],
   "source": [
    "model_config_01 = set_model_params(\n",
    "    base_model_config,\n",
    "    patch_size = (32, 256, 256),\n",
    "    features_per_stage = (96, 192, 384, 768),\n",
    "    stem_kernel_size=4,\n",
    "    kernel_sizes = [\n",
    "        (1,5,5),\n",
    "        (3,5,5), \n",
    "        (3,5,5),\n",
    "        (1,5,5),\n",
    "    ],\n",
    "    strides = [\n",
    "        (4,4,4),\n",
    "        (1,2,2),\n",
    "        (2,2,2),\n",
    "        (1,2,2),\n",
    "    ],\n",
    "    n_blocks_per_stage = [3,3,9,3],\n",
    "    exp_ratio_per_stage = [3,4,4,3],\n",
    "    n_blocks_per_stage_decoder = [1,1,1,1],\n",
    "    exp_ratio_per_stage_decoder = [1,1,1,1],\n",
    "    decode_stem_kernel_size = 3\n",
    ")"
   ]
  },
  {
   "cell_type": "code",
   "execution_count": 31,
   "id": "37cd6d0e",
   "metadata": {},
   "outputs": [],
   "source": [
    "model_config_02 = set_model_params(\n",
    "    base_model_config,\n",
    "    patch_size = (32, 256, 256),\n",
    "    features_per_stage = (64, 128, 256, 256),\n",
    "    stem_kernel_size=4,\n",
    "    kernel_sizes = [\n",
    "        (1,5,5),\n",
    "        (3,5,5), \n",
    "        (3,5,5),\n",
    "        (1,5,5),\n",
    "    ],\n",
    "    strides = [\n",
    "        (4,4,4),\n",
    "        (1,2,2),\n",
    "        (2,2,2),\n",
    "        (1,2,2),\n",
    "    ],\n",
    "    n_blocks_per_stage = [3,3,9,3],\n",
    "    exp_ratio_per_stage = [3,4,4,3],\n",
    "    n_blocks_per_stage_decoder = [1,1,1,1],\n",
    "    exp_ratio_per_stage_decoder = [1,1,1,1],\n",
    "    decode_stem_kernel_size = 3\n",
    ")\n",
    "model_config_03 = set_model_params(\n",
    "    base_model_config,\n",
    "    patch_size = (32, 256, 256),\n",
    "    features_per_stage = (64, 128, 256, 256),\n",
    "    stem_kernel_size=4,\n",
    "    kernel_sizes = [\n",
    "        (1,3,3),\n",
    "        (3,3,3), \n",
    "        (3,3,3),\n",
    "        (1,3,3),\n",
    "    ],\n",
    "    strides = [\n",
    "        (4,4,4),\n",
    "        (1,2,2),\n",
    "        (2,2,2),\n",
    "        (1,2,2),\n",
    "    ],\n",
    "    n_blocks_per_stage = [3,3,9,3],\n",
    "    exp_ratio_per_stage = [3,4,4,3],\n",
    "    n_blocks_per_stage_decoder = [1,1,1,1],\n",
    "    exp_ratio_per_stage_decoder = [1,1,1,1],\n",
    "    decode_stem_kernel_size = 3\n",
    ")"
   ]
  },
  {
   "cell_type": "code",
   "execution_count": 33,
   "id": "e75bf442",
   "metadata": {},
   "outputs": [],
   "source": [
    "new_config = copy.deepcopy(base_config)\n",
    "new_config[\"configurations\"][\"3d_fullres\"] = base_model_config\n",
    "new_config[\"configurations\"][\"3d_01\"] = model_config_01\n",
    "new_config[\"configurations\"][\"3d_02\"] = model_config_02\n",
    "new_config[\"configurations\"][\"3d_03\"] = model_config_03"
   ]
  },
  {
   "cell_type": "code",
   "execution_count": 34,
   "id": "1b7f30d2",
   "metadata": {},
   "outputs": [],
   "source": [
    "with open(new_config_fpath, \"w\") as f:\n",
    "    json.dump(new_config, f, indent=2)"
   ]
  },
  {
   "cell_type": "code",
   "execution_count": null,
   "id": "8f547e87",
   "metadata": {},
   "outputs": [],
   "source": []
  }
 ],
 "metadata": {
  "kernelspec": {
   "display_name": "Python [conda env:mbas]",
   "language": "python",
   "name": "conda-env-mbas-py"
  },
  "language_info": {
   "codemirror_mode": {
    "name": "ipython",
    "version": 3
   },
   "file_extension": ".py",
   "mimetype": "text/x-python",
   "name": "python",
   "nbconvert_exporter": "python",
   "pygments_lexer": "ipython3",
   "version": "3.10.14"
  }
 },
 "nbformat": 4,
 "nbformat_minor": 5
}
